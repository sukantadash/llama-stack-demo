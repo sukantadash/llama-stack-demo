{
  "cells": [
    {
      "cell_type": "raw",
      "metadata": {
        "vscode": {
          "languageId": "raw"
        }
      },
      "source": [
        "# Simple MCP Tool Testing\n",
        "\n",
        "This notebook provides a simple way to test MCP Atlassian tools directly.\n",
        "\n",
        "## Quick Test\n",
        "Run the cells below to test tool calling functionality.\n"
      ]
    },
    {
      "cell_type": "code",
      "execution_count": 1,
      "metadata": {},
      "outputs": [
        {
          "name": "stdout",
          "output_type": "stream",
          "text": [
            "🔗 Connecting to: http://localhost:8321\n",
            "✅ Client created\n"
          ]
        }
      ],
      "source": [
        "# Simple imports\n",
        "import os\n",
        "from dotenv import load_dotenv\n",
        "from llama_stack_client import LlamaStackClient\n",
        "\n",
        "# Load config\n",
        "load_dotenv('config.env')\n",
        "base_url = os.environ.get('LLAMA_STACK_URL', 'http://localhost:8321')\n",
        "print(f\"🔗 Connecting to: {base_url}\")\n",
        "\n",
        "# Create client\n",
        "client = LlamaStackClient(base_url=base_url)\n",
        "print(\"✅ Client created\")\n"
      ]
    },
    {
      "cell_type": "code",
      "execution_count": 2,
      "metadata": {},
      "outputs": [
        {
          "name": "stdout",
          "output_type": "stream",
          "text": [
            "🔍 Available MCP Atlassian tools:\n",
            "Found 37 tools:\n",
            "   1. confluence_add_comment\n",
            "   2. confluence_add_label\n",
            "   3. confluence_create_page\n",
            "   4. confluence_delete_page\n",
            "   5. confluence_get_comments\n",
            "   6. confluence_get_labels\n",
            "   7. confluence_get_page\n",
            "   8. confluence_get_page_children\n",
            "   9. confluence_search\n",
            "  10. confluence_update_page\n",
            "  11. jira_add_comment\n",
            "  12. jira_add_worklog\n",
            "  13. jira_batch_create_issues\n",
            "  14. jira_batch_get_changelogs\n",
            "  15. jira_create_issue\n",
            "  16. jira_create_issue_link\n",
            "  17. jira_create_sprint\n",
            "  18. jira_delete_issue\n",
            "  19. jira_download_attachments\n",
            "  20. jira_get_agile_boards\n",
            "  21. jira_get_board_issues\n",
            "  22. jira_get_issue\n",
            "  23. jira_get_link_types\n",
            "  24. jira_get_project_issues\n",
            "  25. jira_get_project_versions\n",
            "  26. jira_get_sprint_issues\n",
            "  27. jira_get_sprints_from_board\n",
            "  28. jira_get_transitions\n",
            "  29. jira_get_user_profile\n",
            "  30. jira_get_worklog\n",
            "  31. jira_link_to_epic\n",
            "  32. jira_remove_issue_link\n",
            "  33. jira_search\n",
            "  34. jira_search_fields\n",
            "  35. jira_transition_issue\n",
            "  36. jira_update_issue\n",
            "  37. jira_update_sprint\n"
          ]
        }
      ],
      "source": [
        "# List all available tools\n",
        "print(\"🔍 Available MCP Atlassian tools:\")\n",
        "try:\n",
        "    tools = client.tools.list(toolgroup_id=\"mcp::atlassian\")\n",
        "    print(f\"Found {len(tools)} tools:\")\n",
        "    \n",
        "    for i, tool in enumerate(tools, 1):\n",
        "        tool_name = getattr(tool, 'name', getattr(tool, 'identifier', str(tool)))\n",
        "        print(f\"  {i:2d}. {tool_name}\")\n",
        "        \n",
        "except Exception as e:\n",
        "    print(f\"❌ Error: {e}\")\n"
      ]
    },
    {
      "cell_type": "code",
      "execution_count": 3,
      "metadata": {},
      "outputs": [
        {
          "name": "stdout",
          "output_type": "stream",
          "text": [
            "🎫 Jira tools:\n",
            "  - jira_add_comment\n",
            "  - jira_add_worklog\n",
            "  - jira_batch_create_issues\n",
            "  - jira_batch_get_changelogs\n",
            "  - jira_create_issue\n",
            "  - jira_create_issue_link\n",
            "  - jira_create_sprint\n",
            "  - jira_delete_issue\n",
            "  - jira_download_attachments\n",
            "  - jira_get_agile_boards\n",
            "  - jira_get_board_issues\n",
            "  - jira_get_issue\n",
            "  - jira_get_link_types\n",
            "  - jira_get_project_issues\n",
            "  - jira_get_project_versions\n",
            "  - jira_get_sprint_issues\n",
            "  - jira_get_sprints_from_board\n",
            "  - jira_get_transitions\n",
            "  - jira_get_user_profile\n",
            "  - jira_get_worklog\n",
            "  - jira_link_to_epic\n",
            "  - jira_remove_issue_link\n",
            "  - jira_search\n",
            "  - jira_search_fields\n",
            "  - jira_transition_issue\n",
            "  - jira_update_issue\n",
            "  - jira_update_sprint\n",
            "\n",
            "Found 27 Jira tools\n"
          ]
        }
      ],
      "source": [
        "# Find Jira tools specifically\n",
        "print(\"🎫 Jira tools:\")\n",
        "jira_tools = []\n",
        "for tool in tools:\n",
        "    tool_name = getattr(tool, 'name', getattr(tool, 'identifier', str(tool)))\n",
        "    if 'jira' in str(tool).lower():\n",
        "        jira_tools.append(tool_name)\n",
        "        print(f\"  - {tool_name}\")\n",
        "\n",
        "print(f\"\\nFound {len(jira_tools)} Jira tools\")\n"
      ]
    },
    {
      "cell_type": "code",
      "execution_count": 4,
      "metadata": {},
      "outputs": [
        {
          "name": "stdout",
          "output_type": "stream",
          "text": [
            "🧪 Test 1: Create Jira Issue\n",
            "========================================\n",
            "✅ Found tool: jira_create_issue\n",
            "✅ Tool call successful!\n",
            "Result: ToolInvocationResult(content='{\"type\":\"text\",\"text\":\"{\\\\n  \\\\\"message\\\\\": \\\\\"Issue created successfully\\\\\",\\\\n  \\\\\"issue\\\\\": {\\\\n    \\\\\"id\\\\\": \\\\\"10004\\\\\",\\\\n    \\\\\"key\\\\\": \\\\\"KAN-2\\\\\",\\\\n    \\\\\"summary\\\\\": \\\\\"Test OOM Error - Simple Test\\\\\",\\\\n    \\\\\"url\\\\\": \\\\\"https://sukantadash.atlassian.net/rest/api/2/issue/10004\\\\\",\\\\n    \\\\\"description\\\\\": \\\\\"This is a simple test to verify tool calling works.\\\\\",\\\\n    \\\\\"status\\\\\": {\\\\n      \\\\\"name\\\\\": \\\\\"To Do\\\\\",\\\\n      \\\\\"category\\\\\": \\\\\"To Do\\\\\",\\\\n      \\\\\"color\\\\\": \\\\\"blue-gray\\\\\"\\\\n    },\\\\n    \\\\\"issue_type\\\\\": {\\\\n      \\\\\"name\\\\\": \\\\\"Task\\\\\"\\\\n    },\\\\n    \\\\\"priority\\\\\": {\\\\n      \\\\\"name\\\\\": \\\\\"Medium\\\\\"\\\\n    },\\\\n    \\\\\"project\\\\\": {\\\\n      \\\\\"key\\\\\": \\\\\"KAN\\\\\",\\\\n      \\\\\"name\\\\\": \\\\\"Ocp support\\\\\",\\\\n      \\\\\"avatar_url\\\\\": \\\\\"https://sukantadash.atlassian.net/rest/api/2/universal_avatar/view/type/project/avatar/10410\\\\\"\\\\n    },\\\\n    \\\\\"worklog\\\\\": {\\\\n      \\\\\"startAt\\\\\": 0,\\\\n      \\\\\"maxResults\\\\\": 20,\\\\n      \\\\\"total\\\\\": 0,\\\\n      \\\\\"worklogs\\\\\": []\\\\n    },\\\\n    \\\\\"assignee\\\\\": {\\\\n      \\\\\"display_name\\\\\": \\\\\"Unassigned\\\\\"\\\\n    },\\\\n    \\\\\"reporter\\\\\": {\\\\n      \\\\\"display_name\\\\\": \\\\\"Sukanta Dash\\\\\",\\\\n      \\\\\"name\\\\\": \\\\\"Sukanta Dash\\\\\",\\\\n      \\\\\"email\\\\\": \\\\\"sukanta.dash@gmail.com\\\\\",\\\\n      \\\\\"avatar_url\\\\\": \\\\\"https://secure.gravatar.com/avatar/c113a8f0e146ce54c22cef4c27220532?d=https%3A%2F%2Favatar-management--avatars.us-west-2.prod.public.atl-paas.net%2Finitials%2FSD-4.png\\\\\"\\\\n    },\\\\n    \\\\\"created\\\\\": \\\\\"2025-09-29T07:53:47.557-0700\\\\\",\\\\n    \\\\\"updated\\\\\": \\\\\"2025-09-29T07:53:47.668-0700\\\\\"\\\\n  }\\\\n}\",\"annotations\":null}', error_code=0, error_message=None, metadata=None)\n"
          ]
        }
      ],
      "source": [
        "# Test 1: Simple Jira Issue Creation\n",
        "print(\"🧪 Test 1: Create Jira Issue\")\n",
        "print(\"=\"*40)\n",
        "\n",
        "# Find jira_create_issue tool\n",
        "create_tool = None\n",
        "for tool in tools:\n",
        "    tool_name = getattr(tool, 'name', getattr(tool, 'identifier', str(tool)))\n",
        "    if 'jira_create_issue' in str(tool).lower():\n",
        "        create_tool = tool_name\n",
        "        break\n",
        "\n",
        "if create_tool:\n",
        "    print(f\"✅ Found tool: {create_tool}\")\n",
        "    \n",
        "    try:\n",
        "        # Simple test parameters - using correct invoke_tool method\n",
        "        result = client.tool_runtime.invoke_tool(\n",
        "            tool_name=create_tool,\n",
        "            kwargs={\n",
        "                \"project_key\": \"KAN\",\n",
        "                \"summary\": \"Test OOM Error - Simple Test\",\n",
        "                \"issue_type\": \"Task\",\n",
        "                \"description\": \"This is a simple test to verify tool calling works.\",\n",
        "                \"additional_fields\": {}\n",
        "            }\n",
        "        )\n",
        "        print(\"✅ Tool call successful!\")\n",
        "        print(f\"Result: {result}\")\n",
        "        \n",
        "    except Exception as e:\n",
        "        print(f\"❌ Tool call failed: {e}\")\n",
        "else:\n",
        "    print(\"❌ jira_create_issue tool not found\")\n"
      ]
    },
    {
      "cell_type": "code",
      "execution_count": 5,
      "metadata": {},
      "outputs": [
        {
          "name": "stdout",
          "output_type": "stream",
          "text": [
            "\n",
            "🧪 Test 2: Search Jira Issues\n",
            "========================================\n",
            "✅ Found tool: jira_search\n",
            "✅ Search successful!\n",
            "Result: ToolInvocationResult(content='{\"type\":\"text\",\"text\":\"Error calling tool \\'search\\'\",\"annotations\":null}', error_code=1, error_message=None, metadata=None)\n"
          ]
        }
      ],
      "source": [
        "# Test 2: Search for existing issues\n",
        "print(\"\\n🧪 Test 2: Search Jira Issues\")\n",
        "print(\"=\"*40)\n",
        "\n",
        "# Find jira_search_issues tool\n",
        "search_tool = None\n",
        "for tool in tools:\n",
        "    tool_name = getattr(tool, 'name', getattr(tool, 'identifier', str(tool)))\n",
        "    if 'jira_search' in str(tool).lower():\n",
        "        search_tool = tool_name\n",
        "        break\n",
        "\n",
        "if search_tool:\n",
        "    print(f\"✅ Found tool: {search_tool}\")\n",
        "    \n",
        "    try:\n",
        "        # Simple search - using correct invoke_tool method\n",
        "        result = client.tool_runtime.invoke_tool(\n",
        "            tool_name=search_tool,\n",
        "            kwargs={\n",
        "                \"jql\": \"project = KAN ORDER BY created DESC\",\n",
        "                \"max_results\": 5\n",
        "            }\n",
        "        )\n",
        "        print(\"✅ Search successful!\")\n",
        "        print(f\"Result: {result}\")\n",
        "        \n",
        "    except Exception as e:\n",
        "        print(f\"❌ Search failed: {e}\")\n",
        "else:\n",
        "    print(\"❌ jira_search tool not found\")\n"
      ]
    },
    {
      "cell_type": "code",
      "execution_count": null,
      "metadata": {},
      "outputs": [],
      "source": [
        "# Test 3: One-liner test function\n",
        "def quick_test(tool_name, kwargs):\n",
        "    \"\"\"Quick test any tool with given parameters\"\"\"\n",
        "    print(f\"\\n⚡ Quick test: {tool_name}\")\n",
        "    try:\n",
        "        result = client.tool_runtime.invoke_tool(tool_name=tool_name, kwargs=kwargs)\n",
        "        print(f\"✅ Success: {result}\")\n",
        "        return result\n",
        "    except Exception as e:\n",
        "        print(f\"❌ Failed: {e}\")\n",
        "        return None\n",
        "\n",
        "# Example usage:\n",
        "# quick_test(\"jira_create_issue\", {\"project_key\": \"KAN\", \"summary\": \"Test\"})\n",
        "print(\"💡 Use quick_test(tool_name, kwargs) to test any tool quickly!\")\n"
      ]
    },
    {
      "cell_type": "code",
      "execution_count": null,
      "metadata": {},
      "outputs": [],
      "source": [
        "# Test 4: Create OOM Error Incident (Simple Version)\n",
        "print(\"\\n🎫 Test 4: Create OOM Error Incident\")\n",
        "print(\"=\"*50)\n",
        "\n",
        "if create_tool:\n",
        "    oom_incident = {\n",
        "        \"project_key\": \"KAN\",\n",
        "        \"summary\": \"Pod failing due to OOM error\",\n",
        "        \"issue_type\": \"Incident\", \n",
        "        \"description\": \"Pod experiencing Out of Memory errors causing failures.\",\n",
        "        \"additional_fields\": {\n",
        "            \"priority\": {\"name\": \"High\"},\n",
        "            \"labels\": [\"oom-error\", \"pod-failure\", \"high-priority\"]\n",
        "        }\n",
        "    }\n",
        "    \n",
        "    result = quick_test(create_tool, oom_incident)\n",
        "    \n",
        "    if result:\n",
        "        print(\"🎉 OOM Error incident created successfully!\")\n",
        "    else:\n",
        "        print(\"❌ Failed to create OOM Error incident\")\n",
        "else:\n",
        "    print(\"❌ Create tool not available\")\n"
      ]
    },
    {
      "cell_type": "raw",
      "metadata": {
        "vscode": {
          "languageId": "raw"
        }
      },
      "source": [
        "## Summary\n",
        "\n",
        "This simple notebook provides:\n",
        "\n",
        "1. **Quick Setup** - Minimal imports and configuration\n",
        "2. **Tool Discovery** - Lists all available MCP Atlassian tools\n",
        "3. **Direct Testing** - Tests tools directly without agents\n",
        "4. **One-liner Function** - `quick_test()` for easy tool testing\n",
        "5. **OOM Incident** - Creates the specific incident you requested\n",
        "\n",
        "### Usage:\n",
        "- Run cells 1-3 to see available tools\n",
        "- Run cell 4 to test Jira issue creation\n",
        "- Run cell 5 to test Jira search\n",
        "- Use `quick_test(tool_name, params)` for any tool\n",
        "- Run cell 7 to create the OOM error incident\n",
        "\n",
        "**That's it!** No complex agents, no streaming, just direct tool calls.\n"
      ]
    }
  ],
  "metadata": {
    "kernelspec": {
      "display_name": "mcp-test-env",
      "language": "python",
      "name": "python3"
    },
    "language_info": {
      "codemirror_mode": {
        "name": "ipython",
        "version": 3
      },
      "file_extension": ".py",
      "mimetype": "text/x-python",
      "name": "python",
      "nbconvert_exporter": "python",
      "pygments_lexer": "ipython3",
      "version": "3.13.1"
    }
  },
  "nbformat": 4,
  "nbformat_minor": 2
}
