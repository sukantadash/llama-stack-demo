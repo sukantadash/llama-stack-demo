{
  "cells": [
    {
      "cell_type": "raw",
      "metadata": {
        "vscode": {
          "languageId": "raw"
        }
      },
      "source": [
        "# Test ReActAgent with Jira Create\n",
        "\n",
        "This notebook tests creating a Jira issue using ReActAgent with MCP Atlassian tools.\n",
        "\n",
        "## Goal\n",
        "- Use ReActAgent to create a Jira issue\n",
        "- Test the agent's ability to call MCP tools\n",
        "- Verify the issue creation process\n"
      ]
    },
    {
      "cell_type": "code",
      "execution_count": 1,
      "metadata": {},
      "outputs": [
        {
          "name": "stdout",
          "output_type": "stream",
          "text": [
            "🔗 Connecting to: http://localhost:8321\n",
            "🤖 Using model: r1-qwen-14b-w4a16\n",
            "✅ Client created\n"
          ]
        }
      ],
      "source": [
        "# Setup\n",
        "import os\n",
        "from dotenv import load_dotenv\n",
        "from llama_stack_client import LlamaStackClient\n",
        "from llama_stack_client.lib.agents.react.agent import ReActAgent\n",
        "from llama_stack_client.lib.agents.react.tool_parser import ReActOutput\n",
        "from llama_stack_client.lib.agents.event_logger import EventLogger\n",
        "\n",
        "# Load configuration\n",
        "load_dotenv('config.env')\n",
        "base_url = os.environ.get('LLAMA_STACK_URL', 'http://localhost:8321')\n",
        "model_id = os.environ.get('LLM_MODEL_ID', 'r1-qwen-14b-w4a16')\n",
        "temperature = float(os.environ.get(\"TEMPERATURE\", 0.0))\n",
        "max_tokens = int(os.environ.get(\"MAX_TOKENS\", 4096))\n",
        "\n",
        "print(f\"🔗 Connecting to: {base_url}\")\n",
        "print(f\"🤖 Using model: {model_id}\")\n",
        "\n",
        "# Create client\n",
        "client = LlamaStackClient(base_url=base_url)\n",
        "print(\"✅ Client created\")\n"
      ]
    },
    {
      "cell_type": "code",
      "execution_count": 2,
      "metadata": {},
      "outputs": [
        {
          "name": "stdout",
          "output_type": "stream",
          "text": [
            "🔍 Checking MCP Atlassian tools...\n",
            "✅ Found 37 Atlassian tools\n",
            "🎫 Jira tools: 27\n",
            "  - jira_batch_create_issues\n",
            "  - jira_create_issue\n",
            "  - jira_create_issue_link\n",
            "  - jira_create_sprint\n",
            "  - jira_search\n",
            "  - jira_search_fields\n"
          ]
        }
      ],
      "source": [
        "# Check available tools\n",
        "print(\"🔍 Checking MCP Atlassian tools...\")\n",
        "try:\n",
        "    tools = client.tools.list(toolgroup_id=\"mcp::atlassian\")\n",
        "    print(f\"✅ Found {len(tools)} Atlassian tools\")\n",
        "    \n",
        "    # Find Jira tools\n",
        "    jira_tools = [t for t in tools if 'jira' in str(t).lower()]\n",
        "    print(f\"🎫 Jira tools: {len(jira_tools)}\")\n",
        "    \n",
        "    # Show create and search tools\n",
        "    for tool in jira_tools:\n",
        "        tool_name = getattr(tool, 'name', getattr(tool, 'identifier', str(tool)))\n",
        "        if 'create' in tool_name or 'search' in tool_name:\n",
        "            print(f\"  - {tool_name}\")\n",
        "            \n",
        "except Exception as e:\n",
        "    print(f\"❌ Error loading tools: {e}\")\n"
      ]
    },
    {
      "cell_type": "code",
      "execution_count": 4,
      "metadata": {},
      "outputs": [
        {
          "name": "stdout",
          "output_type": "stream",
          "text": [
            "🤖 Creating ReActAgent...\n",
            "✅ ReActAgent created successfully\n"
          ]
        }
      ],
      "source": [
        "# Create ReActAgent\n",
        "print(\"🤖 Creating ReActAgent...\")\n",
        "\n",
        "# Sampling parameters\n",
        "sampling_params = {\n",
        "    \"strategy\": {\"type\": \"greedy\"},\n",
        "    \"max_tokens\": max_tokens,\n",
        "    \"temperature\": temperature,\n",
        "}\n",
        "\n",
        "# Create agent\n",
        "agent = ReActAgent(\n",
        "    client=client,\n",
        "    model=model_id,\n",
        "    instructions=\"\"\"You are a helpful assistant that can create and manage Jira issues. \n",
        "    Use the available Jira tools to create, search, and manage issues in the KAN project.\n",
        "    When creating issues, provide clear summaries and descriptions.\n",
        "    Always use the correct dictionary format for additional_fields, not JSON strings.\"\"\",\n",
        "    tools=[\"mcp::atlassian\"],\n",
        "    response_format={\n",
        "        \"type\": \"json_schema\",\n",
        "        \"json_schema\": ReActOutput.model_json_schema(),\n",
        "    },\n",
        "    sampling_params=sampling_params,\n",
        ")\n",
        "\n",
        "print(\"✅ ReActAgent created successfully\")\n"
      ]
    },
    {
      "cell_type": "code",
      "execution_count": 5,
      "metadata": {},
      "outputs": [
        {
          "name": "stdout",
          "output_type": "stream",
          "text": [
            "🧪 Test 1: Create Simple Jira Issue\n",
            "=============================================\n",
            "✅ Session created: 86d0f0af-f004-4802-bacf-6ad8d2789ef1\n",
            "\n",
            "📝 Test prompt:\n",
            "Create a simple Jira issue in the KAN project with these details:\n",
            "    - Summary: \"Test Issue - ReActAgent Integration\"\n",
            "    - Issue Type: \"Task\"\n",
            "    - Description: \"This is a test issue created by ReActAgent to verify MCP tool integration works correctly.\"\n",
            "    - Priority: Medium\n",
            "    - Labels: [\"test\", \"react-agent\", \"mcp\"]\n",
            "    \n",
            "\n",
            "=============================================\n",
            "\n",
            "🚀 Processing with ReActAgent...\n",
            "\u001b[33minference> \u001b[0m\u001b[33m\u001b[0m\u001b[33m{\n",
            "\u001b[0m\u001b[33m \u001b[0m\u001b[33m \"\u001b[0m\u001b[33mthought\u001b[0m\u001b[33m\":\u001b[0m\u001b[33m \"\u001b[0m\u001b[33mI\u001b[0m\u001b[33m need\u001b[0m\u001b[33m to\u001b[0m\u001b[33m create\u001b[0m\u001b[33m a\u001b[0m\u001b[33m J\u001b[0m\u001b[33mira\u001b[0m\u001b[33m issue\u001b[0m\u001b[33m in\u001b[0m\u001b[33m the\u001b[0m\u001b[33m K\u001b[0m\u001b[33mAN\u001b[0m\u001b[33m project\u001b[0m\u001b[33m with\u001b[0m\u001b[33m the\u001b[0m\u001b[33m specified\u001b[0m\u001b[33m details\u001b[0m\u001b[33m.\u001b[0m\u001b[33m First\u001b[0m\u001b[33m,\u001b[0m\u001b[33m I\u001b[0m\u001b[33m'll\u001b[0m\u001b[33m use\u001b[0m\u001b[33m the\u001b[0m\u001b[33m create\u001b[0m\u001b[33m_issue\u001b[0m\u001b[33m function\u001b[0m\u001b[33m from\u001b[0m\u001b[33m the\u001b[0m\u001b[33m J\u001b[0m\u001b[33mira\u001b[0m\u001b[33m tools\u001b[0m\u001b[33m.\u001b[0m\u001b[33m The\u001b[0m\u001b[33m summary\u001b[0m\u001b[33m should\u001b[0m\u001b[33m be\u001b[0m\u001b[33m '\u001b[0m\u001b[33mTest\u001b[0m\u001b[33m Issue\u001b[0m\u001b[33m -\u001b[0m\u001b[33m Re\u001b[0m\u001b[33mAct\u001b[0m\u001b[33mAgent\u001b[0m\u001b[33m Integration\u001b[0m\u001b[33m'.\u001b[0m\u001b[33m The\u001b[0m\u001b[33m issue\u001b[0m\u001b[33m type\u001b[0m\u001b[33m is\u001b[0m\u001b[33m '\u001b[0m\u001b[33mTask\u001b[0m\u001b[33m',\u001b[0m\u001b[33m priority\u001b[0m\u001b[33m is\u001b[0m\u001b[33m '\u001b[0m\u001b[33mMedium\u001b[0m\u001b[33m',\u001b[0m\u001b[33m and\u001b[0m\u001b[33m labels\u001b[0m\u001b[33m are\u001b[0m\u001b[33m '\u001b[0m\u001b[33mtest\u001b[0m\u001b[33m',\u001b[0m\u001b[33m '\u001b[0m\u001b[33mreact\u001b[0m\u001b[33m-agent\u001b[0m\u001b[33m',\u001b[0m\u001b[33m and\u001b[0m\u001b[33m '\u001b[0m\u001b[33mm\u001b[0m\u001b[33mcp\u001b[0m\u001b[33m'.\u001b[0m\u001b[33m I\u001b[0m\u001b[33m'll\u001b[0m\u001b[33m structure\u001b[0m\u001b[33m the\u001b[0m\u001b[33m additional\u001b[0m\u001b[33m_fields\u001b[0m\u001b[33m correctly\u001b[0m\u001b[33m,\u001b[0m\u001b[33m ensuring\u001b[0m\u001b[33m it\u001b[0m\u001b[33m's\u001b[0m\u001b[33m a\u001b[0m\u001b[33m dictionary\u001b[0m\u001b[33m,\u001b[0m\u001b[33m not\u001b[0m\u001b[33m a\u001b[0m\u001b[33m JSON\u001b[0m\u001b[33m string\u001b[0m\u001b[33m.\u001b[0m\u001b[33m I\u001b[0m\u001b[33m'll\u001b[0m\u001b[33m also\u001b[0m\u001b[33m include\u001b[0m\u001b[33m the\u001b[0m\u001b[33m description\u001b[0m\u001b[33m as\u001b[0m\u001b[33m provided\u001b[0m\u001b[33m.\u001b[0m\u001b[33m After\u001b[0m\u001b[33m creating\u001b[0m\u001b[33m the\u001b[0m\u001b[33m issue\u001b[0m\u001b[33m,\u001b[0m\u001b[33m I\u001b[0m\u001b[33m'll\u001b[0m\u001b[33m retrieve\u001b[0m\u001b[33m its\u001b[0m\u001b[33m key\u001b[0m\u001b[33m to\u001b[0m\u001b[33m confirm\u001b[0m\u001b[33m it\u001b[0m\u001b[33m's\u001b[0m\u001b[33m been\u001b[0m\u001b[33m created\u001b[0m\u001b[33m successfully\u001b[0m\u001b[33m.\",\n",
            "\u001b[0m\u001b[33m \u001b[0m\u001b[33m \"\u001b[0m\u001b[33maction\u001b[0m\u001b[33m\":\u001b[0m\u001b[33m {\n",
            "\u001b[0m\u001b[33m   \u001b[0m\u001b[33m \"\u001b[0m\u001b[33mtool\u001b[0m\u001b[33m_name\u001b[0m\u001b[33m\":\u001b[0m\u001b[33m \"\u001b[0m\u001b[33mJ\u001b[0m\u001b[33mira\u001b[0m\u001b[33m Tools\u001b[0m\u001b[33m\",\n",
            "\u001b[0m\u001b[33m   \u001b[0m\u001b[33m \"\u001b[0m\u001b[33mtool\u001b[0m\u001b[33m_params\u001b[0m\u001b[33m\":\u001b[0m\u001b[33m [\n",
            "\u001b[0m\u001b[33m     \u001b[0m\u001b[33m {\n",
            "\u001b[0m\u001b[33m       \u001b[0m\u001b[33m \"\u001b[0m\u001b[33mname\u001b[0m\u001b[33m\":\u001b[0m\u001b[33m \"\u001b[0m\u001b[33mcreate\u001b[0m\u001b[33m_issue\u001b[0m\u001b[33m\",\n",
            "\u001b[0m\u001b[33m       \u001b[0m\u001b[33m \"\u001b[0m\u001b[33mvalue\u001b[0m\u001b[33m\":\u001b[0m\u001b[33m \"\u001b[0m\u001b[33mproject\u001b[0m\u001b[33m_key\u001b[0m\u001b[33m=\u001b[0m\u001b[33mK\u001b[0m\u001b[33mAN\u001b[0m\u001b[33m,\u001b[0m\u001b[33m summary\u001b[0m\u001b[33m='\u001b[0m\u001b[33mTest\u001b[0m\u001b[33m Issue\u001b[0m\u001b[33m -\u001b[0m\u001b[33m Re\u001b[0m\u001b[33mAct\u001b[0m\u001b[33mAgent\u001b[0m\u001b[33m Integration\u001b[0m\u001b[33m',\u001b[0m\u001b[33m issue\u001b[0m\u001b[33m_type\u001b[0m\u001b[33m='\u001b[0m\u001b[33mTask\u001b[0m\u001b[33m',\u001b[0m\u001b[33m priority\u001b[0m\u001b[33m='\u001b[0m\u001b[33mMedium\u001b[0m\u001b[33m',\u001b[0m\u001b[33m labels\u001b[0m\u001b[33m=['\u001b[0m\u001b[33mtest\u001b[0m\u001b[33m',\u001b[0m\u001b[33m '\u001b[0m\u001b[33mreact\u001b[0m\u001b[33m-agent\u001b[0m\u001b[33m',\u001b[0m\u001b[33m '\u001b[0m\u001b[33mm\u001b[0m\u001b[33mcp\u001b[0m\u001b[33m'],\u001b[0m\u001b[33m description\u001b[0m\u001b[33m='\u001b[0m\u001b[33mThis\u001b[0m\u001b[33m is\u001b[0m\u001b[33m a\u001b[0m\u001b[33m test\u001b[0m\u001b[33m issue\u001b[0m\u001b[33m created\u001b[0m\u001b[33m by\u001b[0m\u001b[33m Re\u001b[0m\u001b[33mAct\u001b[0m\u001b[33mAgent\u001b[0m\u001b[33m to\u001b[0m\u001b[33m verify\u001b[0m\u001b[33m MCP\u001b[0m\u001b[33m tool\u001b[0m\u001b[33m integration\u001b[0m\u001b[33m works\u001b[0m\u001b[33m correctly\u001b[0m\u001b[33m.'\u001b[0m\u001b[33m\"\n",
            "\u001b[0m\u001b[33m     \u001b[0m\u001b[33m }\n",
            "\u001b[0m\u001b[33m   \u001b[0m\u001b[33m ]\n",
            "\u001b[0m\u001b[33m \u001b[0m\u001b[33m }\n",
            "\u001b[0m\u001b[33m \u001b[0m\u001b[33m ,\u001b[0m\u001b[33m \"\u001b[0m\u001b[33manswer\u001b[0m\u001b[33m\":\u001b[0m\u001b[33m \"\u001b[0m\u001b[33mThe\u001b[0m\u001b[33m J\u001b[0m\u001b[33mira\u001b[0m\u001b[33m issue\u001b[0m\u001b[33m has\u001b[0m\u001b[33m been\u001b[0m\u001b[33m created\u001b[0m\u001b[33m with\u001b[0m\u001b[33m the\u001b[0m\u001b[33m key\u001b[0m\u001b[33m K\u001b[0m\u001b[33mAN\u001b[0m\u001b[33m-\u001b[0m\u001b[33m1\u001b[0m\u001b[33m2\u001b[0m\u001b[33m3\u001b[0m\u001b[33m.\"\n",
            "\u001b[0m\u001b[33m}\u001b[0m\u001b[97m\u001b[0m\n",
            "\u001b[30m\u001b[0m\n",
            "✅ Test 1 completed!\n"
          ]
        }
      ],
      "source": [
        "# Test 1: Simple Jira Issue Creation\n",
        "print(\"🧪 Test 1: Create Simple Jira Issue\")\n",
        "print(\"=\"*45)\n",
        "\n",
        "try:\n",
        "    # Create a session\n",
        "    session_id = agent.create_session(\"jira-test-simple\")\n",
        "    print(f\"✅ Session created: {session_id}\")\n",
        "    \n",
        "    # Simple test prompt\n",
        "    test_prompt = \"\"\"Create a simple Jira issue in the KAN project with these details:\n",
        "    - Summary: \"Test Issue - ReActAgent Integration\"\n",
        "    - Issue Type: \"Task\"\n",
        "    - Description: \"This is a test issue created by ReActAgent to verify MCP tool integration works correctly.\"\n",
        "    - Priority: Medium\n",
        "    - Labels: [\"test\", \"react-agent\", \"mcp\"]\n",
        "    \"\"\"\n",
        "    \n",
        "    print(f\"\\n📝 Test prompt:\")\n",
        "    print(test_prompt)\n",
        "    print(\"\\n\" + \"=\"*45)\n",
        "    \n",
        "    # Create turn with streaming\n",
        "    response = agent.create_turn(\n",
        "        messages=[{\"role\": \"user\", \"content\": test_prompt}],\n",
        "        session_id=session_id,\n",
        "        stream=True,\n",
        "        toolgroups=[\"mcp::atlassian\"]  # Explicit toolgroups list\n",
        "    )\n",
        "    \n",
        "    print(\"\\n🚀 Processing with ReActAgent...\")\n",
        "    \n",
        "    # Process streaming response\n",
        "    for log in EventLogger().log(response):\n",
        "        log.print()\n",
        "        \n",
        "    print(\"\\n✅ Test 1 completed!\")\n",
        "    \n",
        "except Exception as e:\n",
        "    print(f\"❌ Test 1 failed: {e}\")\n"
      ]
    },
    {
      "cell_type": "code",
      "execution_count": null,
      "metadata": {},
      "outputs": [],
      "source": [
        "# Test 2: OOM Error Incident Creation\n",
        "print(\"\\n🧪 Test 2: Create OOM Error Incident\")\n",
        "print(\"=\"*40)\n",
        "\n",
        "try:\n",
        "    # Create a new session\n",
        "    session_id = agent.create_session(\"jira-test-oom\")\n",
        "    print(f\"✅ Session created: {session_id}\")\n",
        "    \n",
        "    # OOM error incident prompt\n",
        "    oom_prompt = \"\"\"Create a Jira incident for a pod failing due to OOM (Out of Memory) error in the KAN project:\n",
        "    \n",
        "    - Summary: \"Pod failing due to OOM error\"\n",
        "    - Issue Type: \"Incident\"\n",
        "    - Description: \"Pod experiencing Out of Memory errors causing application failures and service disruption. This requires immediate attention.\"\n",
        "    - Priority: High\n",
        "    - Labels: [\"oom-error\", \"pod-failure\", \"memory-issue\", \"high-priority\", \"production-incident\"]\n",
        "    - Components: [\"Infrastructure\", \"Kubernetes\"]\n",
        "    \"\"\"\n",
        "    \n",
        "    print(f\"\\n📝 OOM Incident prompt:\")\n",
        "    print(oom_prompt)\n",
        "    print(\"\\n\" + \"=\"*40)\n",
        "    \n",
        "    # Create turn with streaming\n",
        "    response = agent.create_turn(\n",
        "        messages=[{\"role\": \"user\", \"content\": oom_prompt}],\n",
        "        session_id=session_id,\n",
        "        stream=True,\n",
        "        toolgroups=[\"mcp::atlassian\"]\n",
        "    )\n",
        "    \n",
        "    print(\"\\n🚀 Processing OOM incident creation...\")\n",
        "    \n",
        "    # Process streaming response\n",
        "    for log in EventLogger().log(response):\n",
        "        log.print()\n",
        "        \n",
        "    print(\"\\n✅ Test 2 completed!\")\n",
        "    \n",
        "except Exception as e:\n",
        "    print(f\"❌ Test 2 failed: {e}\")\n"
      ]
    },
    {
      "cell_type": "code",
      "execution_count": null,
      "metadata": {},
      "outputs": [],
      "source": [
        "# Test 3: Search for Created Issues\n",
        "print(\"\\n🧪 Test 3: Search for Created Issues\")\n",
        "print(\"=\"*40)\n",
        "\n",
        "try:\n",
        "    # Create a new session\n",
        "    session_id = agent.create_session(\"jira-test-search\")\n",
        "    print(f\"✅ Session created: {session_id}\")\n",
        "    \n",
        "    # Search prompt\n",
        "    search_prompt = \"\"\"Search for recently created issues in the KAN project to verify the issues were created successfully.\n",
        "    Look for issues created today with keywords like 'test', 'OOM', 'ReActAgent', or 'pod'.\"\"\"\n",
        "    \n",
        "    print(f\"\\n📝 Search prompt:\")\n",
        "    print(search_prompt)\n",
        "    print(\"\\n\" + \"=\"*40)\n",
        "    \n",
        "    # Create turn with streaming\n",
        "    response = agent.create_turn(\n",
        "        messages=[{\"role\": \"user\", \"content\": search_prompt}],\n",
        "        session_id=session_id,\n",
        "        stream=True,\n",
        "        toolgroups=[\"mcp::atlassian\"]\n",
        "    )\n",
        "    \n",
        "    print(\"\\n🚀 Processing search...\")\n",
        "    \n",
        "    # Process streaming response\n",
        "    for log in EventLogger().log(response):\n",
        "        log.print()\n",
        "        \n",
        "    print(\"\\n✅ Test 3 completed!\")\n",
        "    \n",
        "except Exception as e:\n",
        "    print(f\"❌ Test 3 failed: {e}\")\n"
      ]
    },
    {
      "cell_type": "raw",
      "metadata": {
        "vscode": {
          "languageId": "raw"
        }
      },
      "source": [
        "## Summary\n",
        "\n",
        "This notebook tests ReActAgent with MCP Atlassian tools for Jira operations:\n",
        "\n",
        "### ✅ What it tests:\n",
        "1. **Simple Jira Issue Creation** - Basic task creation with ReActAgent\n",
        "2. **OOM Error Incident Creation** - Complex incident with priority and labels\n",
        "3. **Issue Search** - Verification that issues were created successfully\n",
        "\n",
        "### 🔧 Key Features:\n",
        "- Uses ReActAgent with MCP Atlassian tools\n",
        "- Streaming responses with EventLogger\n",
        "- Proper error handling\n",
        "- Multiple test scenarios\n",
        "\n",
        "### 🚀 Usage:\n",
        "- Run cells 1-3 for setup\n",
        "- Run cell 4 for simple issue creation\n",
        "- Run cell 5 for OOM incident creation  \n",
        "- Run cell 6 to search and verify\n",
        "\n",
        "**The ReActAgent should be able to create Jira issues by reasoning about which tools to use and how to call them correctly.**\n"
      ]
    }
  ],
  "metadata": {
    "kernelspec": {
      "display_name": "mcp-test-env",
      "language": "python",
      "name": "python3"
    },
    "language_info": {
      "codemirror_mode": {
        "name": "ipython",
        "version": 3
      },
      "file_extension": ".py",
      "mimetype": "text/x-python",
      "name": "python",
      "nbconvert_exporter": "python",
      "pygments_lexer": "ipython3",
      "version": "3.13.1"
    }
  },
  "nbformat": 4,
  "nbformat_minor": 2
}
