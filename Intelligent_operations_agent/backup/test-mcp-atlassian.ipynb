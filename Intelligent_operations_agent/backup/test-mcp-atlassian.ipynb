{
  "cells": [
    {
      "cell_type": "raw",
      "metadata": {
        "vscode": {
          "languageId": "raw"
        }
      },
      "source": [
        "# Simple MCP Atlassian Confluence Search Test\n",
        "\n",
        "This notebook provides a simple way to test Confluence search through MCP tools.\n",
        "\n",
        "## Quick Test\n",
        "Run the cells below to test Confluence search functionality.\n"
      ]
    },
    {
      "cell_type": "raw",
      "metadata": {
        "vscode": {
          "languageId": "raw"
        }
      },
      "source": [
        "# Simple MCP Atlassian Confluence Search Test\n",
        "\n",
        "This notebook provides a simple way to test Confluence search through MCP tools.\n",
        "\n",
        "## Quick Test\n",
        "Run the cells below to test Confluence search functionality.\n"
      ]
    },
    {
      "cell_type": "raw",
      "metadata": {
        "vscode": {
          "languageId": "raw"
        }
      },
      "source": [
        "## Setup\n"
      ]
    },
    {
      "cell_type": "code",
      "execution_count": null,
      "metadata": {},
      "outputs": [],
      "source": [
        "# Install required packages (if needed)\n",
        "# ! pip install llama-stack-client python-dotenv rich termcolor\n"
      ]
    },
    {
      "cell_type": "code",
      "execution_count": 28,
      "metadata": {},
      "outputs": [],
      "source": [
        "# Import required libraries\n",
        "import os\n",
        "import json\n",
        "from dotenv import load_dotenv\n",
        "from llama_stack_client import LlamaStackClient\n",
        "from llama_stack_client.lib.agents.react.agent import ReActAgent\n",
        "from llama_stack_client.lib.agents.react.tool_parser import ReActOutput\n",
        "from llama_stack_client.lib.agents.event_logger import EventLogger\n",
        "from termcolor import cprint\n"
      ]
    },
    {
      "cell_type": "code",
      "execution_count": null,
      "metadata": {},
      "outputs": [],
      "source": [
        "# Load configuration\n",
        "load_dotenv('config.env')\n",
        "\n",
        "# Get configuration from environment\n",
        "base_url = os.environ.get('LLAMA_STACK_URL')\n",
        "model_id = os.environ.get('LLM_MODEL_ID')\n",
        "temperature = float(os.environ.get(\"TEMPERATURE\", 0.0))\n",
        "max_tokens = int(os.environ.get(\"MAX_TOKENS\", 4096))\n",
        "\n",
        "# Sampling parameters\n",
        "sampling_params = {\n",
        "    \"strategy\": {\"type\": \"greedy\"},\n",
        "    \"max_tokens\": max_tokens,\n",
        "    \"temperature\": temperature,\n",
        "}\n",
        "\n",
        "print(f\"✅ Configuration loaded:\")\n",
        "print(f\"  Llama Stack URL: {base_url}\")\n",
        "print(f\"  Model ID: {model_id}\")\n",
        "print(f\"  Temperature: {temperature}\")\n",
        "print(f\"  Max Tokens: {max_tokens}\")\n"
      ]
    },
    {
      "cell_type": "code",
      "execution_count": 31,
      "metadata": {},
      "outputs": [
        {
          "data": {
            "text/html": [
              "<pre style=\"white-space:pre;overflow-x:auto;line-height:normal;font-family:Menlo,'DejaVu Sans Mono',consolas,'Courier New',monospace\">✅ Connected to Llama Stack server at <span style=\"color: #0000ff; text-decoration-color: #0000ff; text-decoration: underline\">http://localhost:8321</span>\n",
              "</pre>\n"
            ],
            "text/plain": [
              "✅ Connected to Llama Stack server at \u001b[4;94mhttp://localhost:8321\u001b[0m\n"
            ]
          },
          "metadata": {},
          "output_type": "display_data"
        },
        {
          "data": {
            "text/html": [
              "<pre style=\"white-space:pre;overflow-x:auto;line-height:normal;font-family:Menlo,'DejaVu Sans Mono',consolas,'Courier New',monospace\">✅ Using model: r1-qwen-14b-w4a16\n",
              "</pre>\n"
            ],
            "text/plain": [
              "✅ Using model: r1-qwen-14b-w4a16\n"
            ]
          },
          "metadata": {},
          "output_type": "display_data"
        },
        {
          "data": {
            "text/html": [
              "<pre style=\"white-space:pre;overflow-x:auto;line-height:normal;font-family:Menlo,'DejaVu Sans Mono',consolas,'Courier New',monospace\">\n",
              "🔍 Checking Atlassian MCP tools:\n",
              "</pre>\n"
            ],
            "text/plain": [
              "\n",
              "🔍 Checking Atlassian MCP tools:\n"
            ]
          },
          "metadata": {},
          "output_type": "display_data"
        },
        {
          "name": "stderr",
          "output_type": "stream",
          "text": [
            "DEBUG:llama_stack_client._base_client:Request options: {'method': 'get', 'url': '/v1/tools', 'params': {'toolgroup_id': 'mcp::atlassian'}, 'post_parser': <function DataWrapper._unwrapper at 0x111874400>}\n",
            "DEBUG:llama_stack_client._base_client:Sending HTTP Request: GET http://localhost:8321/v1/tools?toolgroup_id=mcp%3A%3Aatlassian\n",
            "DEBUG:httpcore.connection:connect_tcp.started host='localhost' port=8321 local_address=None timeout=5.0 socket_options=None\n",
            "DEBUG:httpcore.connection:connect_tcp.complete return_value=<httpcore._backends.sync.SyncStream object at 0x11302fd10>\n",
            "DEBUG:httpcore.http11:send_request_headers.started request=<Request [b'GET']>\n",
            "DEBUG:httpcore.http11:send_request_headers.complete\n",
            "DEBUG:httpcore.http11:send_request_body.started request=<Request [b'GET']>\n",
            "DEBUG:httpcore.http11:send_request_body.complete\n",
            "DEBUG:httpcore.http11:receive_response_headers.started request=<Request [b'GET']>\n",
            "DEBUG:httpcore.http11:receive_response_headers.complete return_value=(b'HTTP/1.1', 200, b'OK', [(b'date', b'Mon, 29 Sep 2025 00:20:09 GMT'), (b'server', b'uvicorn'), (b'content-length', b'50255'), (b'content-type', b'application/json'), (b'x-trace-id', b'4c83f1bb700b9a3f05b51db099754854')])\n",
            "INFO:httpx:HTTP Request: GET http://localhost:8321/v1/tools?toolgroup_id=mcp%3A%3Aatlassian \"HTTP/1.1 200 OK\"\n",
            "DEBUG:httpcore.http11:receive_response_body.started request=<Request [b'GET']>\n",
            "DEBUG:httpcore.http11:receive_response_body.complete\n",
            "DEBUG:httpcore.http11:response_closed.started\n",
            "DEBUG:httpcore.http11:response_closed.complete\n",
            "DEBUG:llama_stack_client._base_client:HTTP Response: GET http://localhost:8321/v1/tools?toolgroup_id=mcp%3A%3Aatlassian \"200 OK\" Headers({'date': 'Mon, 29 Sep 2025 00:20:09 GMT', 'server': 'uvicorn', 'content-length': '50255', 'content-type': 'application/json', 'x-trace-id': '4c83f1bb700b9a3f05b51db099754854'})\n"
          ]
        },
        {
          "data": {
            "text/html": [
              "<pre style=\"white-space:pre;overflow-x:auto;line-height:normal;font-family:Menlo,'DejaVu Sans Mono',consolas,'Courier New',monospace\">✅ Found <span style=\"color: #008080; text-decoration-color: #008080; font-weight: bold\">37</span> Atlassian tools\n",
              "</pre>\n"
            ],
            "text/plain": [
              "✅ Found \u001b[1;36m37\u001b[0m Atlassian tools\n"
            ]
          },
          "metadata": {},
          "output_type": "display_data"
        },
        {
          "data": {
            "text/html": [
              "<pre style=\"white-space:pre;overflow-x:auto;line-height:normal;font-family:Menlo,'DejaVu Sans Mono',consolas,'Courier New',monospace\">🔍 Confluence tools: <span style=\"color: #008080; text-decoration-color: #008080; font-weight: bold\">10</span>\n",
              "</pre>\n"
            ],
            "text/plain": [
              "🔍 Confluence tools: \u001b[1;36m10\u001b[0m\n"
            ]
          },
          "metadata": {},
          "output_type": "display_data"
        },
        {
          "data": {
            "text/html": [
              "<pre style=\"white-space:pre;overflow-x:auto;line-height:normal;font-family:Menlo,'DejaVu Sans Mono',consolas,'Courier New',monospace\">   - confluence_add_comment\n",
              "</pre>\n"
            ],
            "text/plain": [
              "   - confluence_add_comment\n"
            ]
          },
          "metadata": {},
          "output_type": "display_data"
        },
        {
          "data": {
            "text/html": [
              "<pre style=\"white-space:pre;overflow-x:auto;line-height:normal;font-family:Menlo,'DejaVu Sans Mono',consolas,'Courier New',monospace\">   - confluence_add_label\n",
              "</pre>\n"
            ],
            "text/plain": [
              "   - confluence_add_label\n"
            ]
          },
          "metadata": {},
          "output_type": "display_data"
        },
        {
          "data": {
            "text/html": [
              "<pre style=\"white-space:pre;overflow-x:auto;line-height:normal;font-family:Menlo,'DejaVu Sans Mono',consolas,'Courier New',monospace\">   - confluence_create_page\n",
              "</pre>\n"
            ],
            "text/plain": [
              "   - confluence_create_page\n"
            ]
          },
          "metadata": {},
          "output_type": "display_data"
        },
        {
          "data": {
            "text/html": [
              "<pre style=\"white-space:pre;overflow-x:auto;line-height:normal;font-family:Menlo,'DejaVu Sans Mono',consolas,'Courier New',monospace\">   - confluence_delete_page\n",
              "</pre>\n"
            ],
            "text/plain": [
              "   - confluence_delete_page\n"
            ]
          },
          "metadata": {},
          "output_type": "display_data"
        },
        {
          "data": {
            "text/html": [
              "<pre style=\"white-space:pre;overflow-x:auto;line-height:normal;font-family:Menlo,'DejaVu Sans Mono',consolas,'Courier New',monospace\">   - confluence_get_comments\n",
              "</pre>\n"
            ],
            "text/plain": [
              "   - confluence_get_comments\n"
            ]
          },
          "metadata": {},
          "output_type": "display_data"
        },
        {
          "data": {
            "text/html": [
              "<pre style=\"white-space:pre;overflow-x:auto;line-height:normal;font-family:Menlo,'DejaVu Sans Mono',consolas,'Courier New',monospace\">   - confluence_get_labels\n",
              "</pre>\n"
            ],
            "text/plain": [
              "   - confluence_get_labels\n"
            ]
          },
          "metadata": {},
          "output_type": "display_data"
        },
        {
          "data": {
            "text/html": [
              "<pre style=\"white-space:pre;overflow-x:auto;line-height:normal;font-family:Menlo,'DejaVu Sans Mono',consolas,'Courier New',monospace\">   - confluence_get_page\n",
              "</pre>\n"
            ],
            "text/plain": [
              "   - confluence_get_page\n"
            ]
          },
          "metadata": {},
          "output_type": "display_data"
        },
        {
          "data": {
            "text/html": [
              "<pre style=\"white-space:pre;overflow-x:auto;line-height:normal;font-family:Menlo,'DejaVu Sans Mono',consolas,'Courier New',monospace\">   - confluence_get_page_children\n",
              "</pre>\n"
            ],
            "text/plain": [
              "   - confluence_get_page_children\n"
            ]
          },
          "metadata": {},
          "output_type": "display_data"
        },
        {
          "data": {
            "text/html": [
              "<pre style=\"white-space:pre;overflow-x:auto;line-height:normal;font-family:Menlo,'DejaVu Sans Mono',consolas,'Courier New',monospace\">   - confluence_search\n",
              "</pre>\n"
            ],
            "text/plain": [
              "   - confluence_search\n"
            ]
          },
          "metadata": {},
          "output_type": "display_data"
        },
        {
          "data": {
            "text/html": [
              "<pre style=\"white-space:pre;overflow-x:auto;line-height:normal;font-family:Menlo,'DejaVu Sans Mono',consolas,'Courier New',monospace\">   - confluence_update_page\n",
              "</pre>\n"
            ],
            "text/plain": [
              "   - confluence_update_page\n"
            ]
          },
          "metadata": {},
          "output_type": "display_data"
        }
      ],
      "source": [
        "# Initialize Llama Stack client\n",
        "client = LlamaStackClient(base_url=base_url)\n",
        "\n",
        "print(f'✅ Connected to Llama Stack server at {base_url}')\n",
        "print(f'✅ Using model: {model_id}')\n",
        "\n",
        "# Check available Atlassian MCP tools\n",
        "print(\"\\n🔍 Checking Atlassian MCP tools:\")\n",
        "try:\n",
        "    atlassian_tools = client.tools.list(toolgroup_id=\"mcp::atlassian\")\n",
        "    print(f\"✅ Found {len(atlassian_tools)} Atlassian tools\")\n",
        "    \n",
        "    # Find Confluence tools\n",
        "    confluence_tools = [t for t in atlassian_tools if 'confluence' in str(t).lower()]\n",
        "    print(f\"🔍 Confluence tools: {len(confluence_tools)}\")\n",
        "    for tool in confluence_tools:\n",
        "        tool_name = getattr(tool, 'name', getattr(tool, 'identifier', str(tool)))\n",
        "        print(f\"   - {tool_name}\")\n",
        "        \n",
        "except Exception as e:\n",
        "    print(f\"❌ Error loading tools: {e}\")\n"
      ]
    },
    {
      "cell_type": "raw",
      "metadata": {
        "vscode": {
          "languageId": "raw"
        }
      },
      "source": [
        "## Create Simple Agent\n"
      ]
    },
    {
      "cell_type": "code",
      "execution_count": 32,
      "metadata": {},
      "outputs": [
        {
          "name": "stderr",
          "output_type": "stream",
          "text": [
            "DEBUG:llama_stack_client._base_client:Request options: {'method': 'post', 'url': '/v1/agents', 'files': None, 'idempotency_key': 'stainless-python-retry-9d792d1d-ca0c-4efb-8c68-ba37a7bdea0f', 'json_data': {'agent_config': {'model': 'r1-qwen-14b-w4a16', 'instructions': 'You are a helpful assistant that can search Confluence pages. Use the available Confluence search tools to find pages in the OCP space.', 'toolgroups': ['mcp::atlassian'], 'client_tools': [], 'response_format': {'type': 'json_schema', 'json_schema': {'$defs': {'Action': {'properties': {'tool_name': {'title': 'Tool Name', 'type': 'string'}, 'tool_params': {'items': {'$ref': '#/$defs/Param'}, 'title': 'Tool Params', 'type': 'array'}}, 'required': ['tool_name', 'tool_params'], 'title': 'Action', 'type': 'object'}, 'Param': {'properties': {'name': {'title': 'Name', 'type': 'string'}, 'value': {'anyOf': [{'type': 'string'}, {'type': 'integer'}, {'type': 'number'}, {'type': 'boolean'}], 'title': 'Value'}}, 'required': ['name', 'value'], 'title': 'Param', 'type': 'object'}}, 'properties': {'thought': {'title': 'Thought', 'type': 'string'}, 'action': {'anyOf': [{'$ref': '#/$defs/Action'}, {'type': 'null'}]}, 'answer': {'anyOf': [{'type': 'string'}, {'type': 'null'}], 'title': 'Answer'}}, 'required': ['thought', 'action', 'answer'], 'title': 'ReActOutput', 'type': 'object'}}, 'sampling_params': {'strategy': {'type': 'greedy'}, 'max_tokens': 4096, 'temperature': 0.0}, 'tool_config': {'tool_choice': 'auto', 'system_message_behavior': 'replace'}}}}\n",
            "DEBUG:llama_stack_client._base_client:Sending HTTP Request: POST http://localhost:8321/v1/agents\n",
            "DEBUG:httpcore.connection:close.started\n",
            "DEBUG:httpcore.connection:close.complete\n",
            "DEBUG:httpcore.connection:connect_tcp.started host='localhost' port=8321 local_address=None timeout=5.0 socket_options=None\n",
            "DEBUG:httpcore.connection:connect_tcp.complete return_value=<httpcore._backends.sync.SyncStream object at 0x1132e28e0>\n",
            "DEBUG:httpcore.http11:send_request_headers.started request=<Request [b'POST']>\n",
            "DEBUG:httpcore.http11:send_request_headers.complete\n",
            "DEBUG:httpcore.http11:send_request_body.started request=<Request [b'POST']>\n",
            "DEBUG:httpcore.http11:send_request_body.complete\n",
            "DEBUG:httpcore.http11:receive_response_headers.started request=<Request [b'POST']>\n",
            "DEBUG:httpcore.http11:receive_response_headers.complete return_value=(b'HTTP/1.1', 200, b'OK', [(b'date', b'Mon, 29 Sep 2025 00:20:45 GMT'), (b'server', b'uvicorn'), (b'content-length', b'51'), (b'content-type', b'application/json'), (b'x-trace-id', b'a83bb22f92e66c853b81874a0276f5f7')])\n",
            "INFO:httpx:HTTP Request: POST http://localhost:8321/v1/agents \"HTTP/1.1 200 OK\"\n",
            "DEBUG:httpcore.http11:receive_response_body.started request=<Request [b'POST']>\n",
            "DEBUG:httpcore.http11:receive_response_body.complete\n",
            "DEBUG:httpcore.http11:response_closed.started\n",
            "DEBUG:httpcore.http11:response_closed.complete\n",
            "DEBUG:llama_stack_client._base_client:HTTP Response: POST http://localhost:8321/v1/agents \"200 OK\" Headers({'date': 'Mon, 29 Sep 2025 00:20:45 GMT', 'server': 'uvicorn', 'content-length': '51', 'content-type': 'application/json', 'x-trace-id': 'a83bb22f92e66c853b81874a0276f5f7'})\n",
            "DEBUG:llama_stack_client._base_client:Request options: {'method': 'get', 'url': '/v1/tools', 'params': {'toolgroup_id': 'mcp::atlassian'}, 'post_parser': <function DataWrapper._unwrapper at 0x111874400>}\n",
            "DEBUG:llama_stack_client._base_client:Sending HTTP Request: GET http://localhost:8321/v1/tools?toolgroup_id=mcp%3A%3Aatlassian\n",
            "DEBUG:httpcore.http11:send_request_headers.started request=<Request [b'GET']>\n",
            "DEBUG:httpcore.http11:send_request_headers.complete\n",
            "DEBUG:httpcore.http11:send_request_body.started request=<Request [b'GET']>\n",
            "DEBUG:httpcore.http11:send_request_body.complete\n",
            "DEBUG:httpcore.http11:receive_response_headers.started request=<Request [b'GET']>\n",
            "DEBUG:httpcore.http11:receive_response_headers.complete return_value=(b'HTTP/1.1', 200, b'OK', [(b'date', b'Mon, 29 Sep 2025 00:20:45 GMT'), (b'server', b'uvicorn'), (b'content-length', b'50255'), (b'content-type', b'application/json'), (b'x-trace-id', b'06970527fb0768a3bbbd3611a6449d9f')])\n",
            "INFO:httpx:HTTP Request: GET http://localhost:8321/v1/tools?toolgroup_id=mcp%3A%3Aatlassian \"HTTP/1.1 200 OK\"\n",
            "DEBUG:httpcore.http11:receive_response_body.started request=<Request [b'GET']>\n",
            "DEBUG:httpcore.http11:receive_response_body.complete\n",
            "DEBUG:httpcore.http11:response_closed.started\n",
            "DEBUG:httpcore.http11:response_closed.complete\n",
            "DEBUG:llama_stack_client._base_client:HTTP Response: GET http://localhost:8321/v1/tools?toolgroup_id=mcp%3A%3Aatlassian \"200 OK\" Headers({'date': 'Mon, 29 Sep 2025 00:20:45 GMT', 'server': 'uvicorn', 'content-length': '50255', 'content-type': 'application/json', 'x-trace-id': '06970527fb0768a3bbbd3611a6449d9f'})\n"
          ]
        },
        {
          "data": {
            "text/html": [
              "<pre style=\"white-space:pre;overflow-x:auto;line-height:normal;font-family:Menlo,'DejaVu Sans Mono',consolas,'Courier New',monospace\">✅ Simple Confluence search agent created\n",
              "</pre>\n"
            ],
            "text/plain": [
              "✅ Simple Confluence search agent created\n"
            ]
          },
          "metadata": {},
          "output_type": "display_data"
        }
      ],
      "source": [
        "# Create simple agent for Confluence search\n",
        "agent = ReActAgent(\n",
        "    client=client,\n",
        "    model=model_id,\n",
        "    instructions=\"You are a helpful assistant that can search Confluence pages. Use the available Confluence search tools to find pages in the OCP space.\",\n",
        "    tools=[\"mcp::atlassian\"],\n",
        "    response_format={\n",
        "        \"type\": \"json_schema\",\n",
        "        \"json_schema\": ReActOutput.model_json_schema(),\n",
        "    },\n",
        "    sampling_params=sampling_params,\n",
        ")\n",
        "\n",
        "print(\"✅ Simple Confluence search agent created\")\n"
      ]
    },
    {
      "cell_type": "code",
      "execution_count": 33,
      "metadata": {},
      "outputs": [],
      "source": [
        "# Simple test function\n",
        "def test_confluence_search(query, space=\"OCP\"):\n",
        "    \"\"\"Test Confluence search with a simple query\"\"\"\n",
        "    print(f\"\\n🔍 Testing Confluence search: '{query}' in space '{space}'\")\n",
        "    print(\"=\"*60)\n",
        "    \n",
        "    try:\n",
        "        # Create a session\n",
        "        session_id = agent.create_session(\"confluence-test\")\n",
        "        \n",
        "        # Create a turn with the search request\n",
        "        response = agent.create_turn(\n",
        "            messages=[{\"role\": \"user\", \"content\": f\"Search for '{query}' in Confluence space '{space}'\"}],\n",
        "            session_id=session_id,\n",
        "            stream=True\n",
        "        )\n",
        "        \n",
        "        # Process the streaming response\n",
        "        for log in EventLogger().log(response):\n",
        "            log.print()\n",
        "            \n",
        "        return session_id\n",
        "        \n",
        "    except Exception as e:\n",
        "        print(f\"❌ Error: {e}\")\n",
        "        return None\n"
      ]
    },
    {
      "cell_type": "code",
      "execution_count": 38,
      "metadata": {},
      "outputs": [
        {
          "data": {
            "text/html": [
              "<pre style=\"white-space:pre;overflow-x:auto;line-height:normal;font-family:Menlo,'DejaVu Sans Mono',consolas,'Courier New',monospace\">\n",
              "🔍 Testing Confluence search: <span style=\"color: #008000; text-decoration-color: #008000\">'Out of Memory Error'</span> in space <span style=\"color: #008000; text-decoration-color: #008000\">'OCP'</span>\n",
              "</pre>\n"
            ],
            "text/plain": [
              "\n",
              "🔍 Testing Confluence search: \u001b[32m'Out of Memory Error'\u001b[0m in space \u001b[32m'OCP'\u001b[0m\n"
            ]
          },
          "metadata": {},
          "output_type": "display_data"
        },
        {
          "data": {
            "text/html": [
              "<pre style=\"white-space:pre;overflow-x:auto;line-height:normal;font-family:Menlo,'DejaVu Sans Mono',consolas,'Courier New',monospace\">============================================================\n",
              "</pre>\n"
            ],
            "text/plain": [
              "============================================================\n"
            ]
          },
          "metadata": {},
          "output_type": "display_data"
        },
        {
          "name": "stderr",
          "output_type": "stream",
          "text": [
            "DEBUG:llama_stack_client._base_client:Request options: {'method': 'post', 'url': '/v1/agents/d3f18cb4-f4a7-4cb3-a762-a9ea5147a25d/session', 'files': None, 'idempotency_key': 'stainless-python-retry-60db30f7-de1f-4fdf-a63b-12156f55c599', 'json_data': {'session_name': 'confluence-test'}}\n",
            "DEBUG:llama_stack_client._base_client:Sending HTTP Request: POST http://localhost:8321/v1/agents/d3f18cb4-f4a7-4cb3-a762-a9ea5147a25d/session\n",
            "DEBUG:httpcore.connection:close.started\n",
            "DEBUG:httpcore.connection:close.complete\n",
            "DEBUG:httpcore.connection:connect_tcp.started host='localhost' port=8321 local_address=None timeout=5.0 socket_options=None\n",
            "DEBUG:httpcore.connection:connect_tcp.complete return_value=<httpcore._backends.sync.SyncStream object at 0x11330cd70>\n",
            "DEBUG:httpcore.http11:send_request_headers.started request=<Request [b'POST']>\n",
            "DEBUG:httpcore.http11:send_request_headers.complete\n",
            "DEBUG:httpcore.http11:send_request_body.started request=<Request [b'POST']>\n",
            "DEBUG:httpcore.http11:send_request_body.complete\n",
            "DEBUG:httpcore.http11:receive_response_headers.started request=<Request [b'POST']>\n",
            "DEBUG:httpcore.http11:receive_response_headers.complete return_value=(b'HTTP/1.1', 200, b'OK', [(b'date', b'Mon, 29 Sep 2025 00:23:25 GMT'), (b'server', b'uvicorn'), (b'content-length', b'53'), (b'content-type', b'application/json'), (b'x-trace-id', b'210eca4b1a154b36169906b53ddc1f9d')])\n",
            "INFO:httpx:HTTP Request: POST http://localhost:8321/v1/agents/d3f18cb4-f4a7-4cb3-a762-a9ea5147a25d/session \"HTTP/1.1 200 OK\"\n",
            "DEBUG:httpcore.http11:receive_response_body.started request=<Request [b'POST']>\n",
            "DEBUG:httpcore.http11:receive_response_body.complete\n",
            "DEBUG:httpcore.http11:response_closed.started\n",
            "DEBUG:httpcore.http11:response_closed.complete\n",
            "DEBUG:llama_stack_client._base_client:HTTP Response: POST http://localhost:8321/v1/agents/d3f18cb4-f4a7-4cb3-a762-a9ea5147a25d/session \"200 OK\" Headers({'date': 'Mon, 29 Sep 2025 00:23:25 GMT', 'server': 'uvicorn', 'content-length': '53', 'content-type': 'application/json', 'x-trace-id': '210eca4b1a154b36169906b53ddc1f9d'})\n"
          ]
        },
        {
          "data": {
            "text/html": [
              "<pre style=\"white-space:pre;overflow-x:auto;line-height:normal;font-family:Menlo,'DejaVu Sans Mono',consolas,'Courier New',monospace\">\n",
              "🚀 Starting turn with <span style=\"color: #008080; text-decoration-color: #008080; font-weight: bold\">1</span> <span style=\"color: #800080; text-decoration-color: #800080; font-weight: bold\">message</span><span style=\"font-weight: bold\">(</span>s<span style=\"font-weight: bold\">)</span>\n",
              "</pre>\n"
            ],
            "text/plain": [
              "\n",
              "🚀 Starting turn with \u001b[1;36m1\u001b[0m \u001b[1;35mmessage\u001b[0m\u001b[1m(\u001b[0ms\u001b[1m)\u001b[0m\n"
            ]
          },
          "metadata": {},
          "output_type": "display_data"
        },
        {
          "data": {
            "text/html": [
              "<pre style=\"white-space:pre;overflow-x:auto;line-height:normal;font-family:Menlo,'DejaVu Sans Mono',consolas,'Courier New',monospace\">Session ID: <span style=\"color: #ffff00; text-decoration-color: #ffff00\">d11a3bb0-a534-414e-9e5e-4e89ad17bbdb</span>\n",
              "</pre>\n"
            ],
            "text/plain": [
              "Session ID: \u001b[93md11a3bb0-a534-414e-9e5e-4e89ad17bbdb\u001b[0m\n"
            ]
          },
          "metadata": {},
          "output_type": "display_data"
        },
        {
          "data": {
            "text/html": [
              "<pre style=\"white-space:pre;overflow-x:auto;line-height:normal;font-family:Menlo,'DejaVu Sans Mono',consolas,'Courier New',monospace\">Streaming: <span style=\"color: #00ff00; text-decoration-color: #00ff00; font-style: italic\">True</span>\n",
              "</pre>\n"
            ],
            "text/plain": [
              "Streaming: \u001b[3;92mTrue\u001b[0m\n"
            ]
          },
          "metadata": {},
          "output_type": "display_data"
        },
        {
          "data": {
            "text/html": [
              "<pre style=\"white-space:pre;overflow-x:auto;line-height:normal;font-family:Menlo,'DejaVu Sans Mono',consolas,'Courier New',monospace\">\n",
              "📝 Input Message <span style=\"color: #008080; text-decoration-color: #008080; font-weight: bold\">1</span>:\n",
              "</pre>\n"
            ],
            "text/plain": [
              "\n",
              "📝 Input Message \u001b[1;36m1\u001b[0m:\n"
            ]
          },
          "metadata": {},
          "output_type": "display_data"
        },
        {
          "data": {
            "text/html": [
              "<pre style=\"white-space:pre;overflow-x:auto;line-height:normal;font-family:Menlo,'DejaVu Sans Mono',consolas,'Courier New',monospace\">Role: user\n",
              "</pre>\n"
            ],
            "text/plain": [
              "Role: user\n"
            ]
          },
          "metadata": {},
          "output_type": "display_data"
        },
        {
          "data": {
            "text/html": [
              "<pre style=\"white-space:pre;overflow-x:auto;line-height:normal;font-family:Menlo,'DejaVu Sans Mono',consolas,'Courier New',monospace\">Content: Search for <span style=\"color: #008000; text-decoration-color: #008000\">'Out of Memory Error'</span> in Confluence space <span style=\"color: #008000; text-decoration-color: #008000\">'OCP'</span>\n",
              "</pre>\n"
            ],
            "text/plain": [
              "Content: Search for \u001b[32m'Out of Memory Error'\u001b[0m in Confluence space \u001b[32m'OCP'\u001b[0m\n"
            ]
          },
          "metadata": {},
          "output_type": "display_data"
        },
        {
          "name": "stderr",
          "output_type": "stream",
          "text": [
            "DEBUG:llama_stack_client._base_client:Request options: {'method': 'post', 'url': '/v1/agents/d3f18cb4-f4a7-4cb3-a762-a9ea5147a25d/session/d11a3bb0-a534-414e-9e5e-4e89ad17bbdb/turn', 'files': None, 'idempotency_key': 'stainless-python-retry-cc8ac8a4-3b95-4aa2-8f74-db8bea68414a', 'json_data': {'messages': [{'role': 'user', 'content': \"Search for 'Out of Memory Error' in Confluence space 'OCP'\"}], 'documents': None, 'stream': True, 'toolgroups': True}}\n",
            "DEBUG:llama_stack_client._base_client:Sending HTTP Request: POST http://localhost:8321/v1/agents/d3f18cb4-f4a7-4cb3-a762-a9ea5147a25d/session/d11a3bb0-a534-414e-9e5e-4e89ad17bbdb/turn\n",
            "DEBUG:httpcore.http11:send_request_headers.started request=<Request [b'POST']>\n",
            "DEBUG:httpcore.http11:send_request_headers.complete\n",
            "DEBUG:httpcore.http11:send_request_body.started request=<Request [b'POST']>\n",
            "DEBUG:httpcore.http11:send_request_body.complete\n",
            "DEBUG:httpcore.http11:receive_response_headers.started request=<Request [b'POST']>\n",
            "DEBUG:httpcore.http11:receive_response_headers.complete return_value=(b'HTTP/1.1', 400, b'Bad Request', [(b'date', b'Mon, 29 Sep 2025 00:23:25 GMT'), (b'server', b'uvicorn'), (b'content-length', b'119'), (b'content-type', b'application/json'), (b'x-trace-id', b'9347486203bae75052a938573686902e')])\n",
            "INFO:httpx:HTTP Request: POST http://localhost:8321/v1/agents/d3f18cb4-f4a7-4cb3-a762-a9ea5147a25d/session/d11a3bb0-a534-414e-9e5e-4e89ad17bbdb/turn \"HTTP/1.1 400 Bad Request\"\n",
            "DEBUG:llama_stack_client._base_client:HTTP Response: POST http://localhost:8321/v1/agents/d3f18cb4-f4a7-4cb3-a762-a9ea5147a25d/session/d11a3bb0-a534-414e-9e5e-4e89ad17bbdb/turn \"400 Bad Request\" Headers({'date': 'Mon, 29 Sep 2025 00:23:25 GMT', 'server': 'uvicorn', 'content-length': '119', 'content-type': 'application/json', 'x-trace-id': '9347486203bae75052a938573686902e'})\n",
            "DEBUG:llama_stack_client._base_client:Encountered httpx.HTTPStatusError\n",
            "Traceback (most recent call last):\n",
            "  File \"/Users/sudash/Desktop/MyFiles/Sukanta/AIProjects/citi/mcp-test-env/lib/python3.13/site-packages/llama_stack_client/_base_client.py\", line 1011, in request\n",
            "    response.raise_for_status()\n",
            "    ~~~~~~~~~~~~~~~~~~~~~~~~~^^\n",
            "  File \"/Users/sudash/Desktop/MyFiles/Sukanta/AIProjects/citi/mcp-test-env/lib/python3.13/site-packages/httpx/_models.py\", line 829, in raise_for_status\n",
            "    raise HTTPStatusError(message, request=request, response=self)\n",
            "httpx.HTTPStatusError: Client error '400 Bad Request' for url 'http://localhost:8321/v1/agents/d3f18cb4-f4a7-4cb3-a762-a9ea5147a25d/session/d11a3bb0-a534-414e-9e5e-4e89ad17bbdb/turn'\n",
            "For more information check: https://developer.mozilla.org/en-US/docs/Web/HTTP/Status/400\n",
            "DEBUG:llama_stack_client._base_client:Not retrying\n",
            "DEBUG:httpcore.http11:receive_response_body.started request=<Request [b'POST']>\n",
            "DEBUG:httpcore.http11:receive_response_body.complete\n",
            "DEBUG:httpcore.http11:response_closed.started\n",
            "DEBUG:httpcore.http11:response_closed.complete\n",
            "DEBUG:llama_stack_client._base_client:Re-raising status error\n"
          ]
        },
        {
          "data": {
            "text/html": [
              "<pre style=\"white-space:pre;overflow-x:auto;line-height:normal;font-family:Menlo,'DejaVu Sans Mono',consolas,'Courier New',monospace\">❌ Error: Error code: <span style=\"color: #008080; text-decoration-color: #008080; font-weight: bold\">400</span> - <span style=\"font-weight: bold\">{</span><span style=\"color: #008000; text-decoration-color: #008000\">'error'</span>: <span style=\"font-weight: bold\">{</span><span style=\"color: #008000; text-decoration-color: #008000\">'detail'</span>: <span style=\"font-weight: bold\">{</span><span style=\"color: #008000; text-decoration-color: #008000\">'errors'</span>: <span style=\"font-weight: bold\">[{</span><span style=\"color: #008000; text-decoration-color: #008000\">'loc'</span>: <span style=\"font-weight: bold\">[</span><span style=\"color: #008000; text-decoration-color: #008000\">'body'</span>, <span style=\"color: #008000; text-decoration-color: #008000\">'toolgroups'</span><span style=\"font-weight: bold\">]</span>, <span style=\"color: #008000; text-decoration-color: #008000\">'msg'</span>: <span style=\"color: #008000; text-decoration-color: #008000\">'Input should </span>\n",
              "<span style=\"color: #008000; text-decoration-color: #008000\">be a valid list'</span>, <span style=\"color: #008000; text-decoration-color: #008000\">'type'</span>: <span style=\"color: #008000; text-decoration-color: #008000\">'list_type'</span><span style=\"font-weight: bold\">}]}}}</span>\n",
              "</pre>\n"
            ],
            "text/plain": [
              "❌ Error: Error code: \u001b[1;36m400\u001b[0m - \u001b[1m{\u001b[0m\u001b[32m'error'\u001b[0m: \u001b[1m{\u001b[0m\u001b[32m'detail'\u001b[0m: \u001b[1m{\u001b[0m\u001b[32m'errors'\u001b[0m: \u001b[1m[\u001b[0m\u001b[1m{\u001b[0m\u001b[32m'loc'\u001b[0m: \u001b[1m[\u001b[0m\u001b[32m'body'\u001b[0m, \u001b[32m'toolgroups'\u001b[0m\u001b[1m]\u001b[0m, \u001b[32m'msg'\u001b[0m: \u001b[32m'Input should \u001b[0m\n",
              "\u001b[32mbe a valid list'\u001b[0m, \u001b[32m'type'\u001b[0m: \u001b[32m'list_type'\u001b[0m\u001b[1m}\u001b[0m\u001b[1m]\u001b[0m\u001b[1m}\u001b[0m\u001b[1m}\u001b[0m\u001b[1m}\u001b[0m\n"
            ]
          },
          "metadata": {},
          "output_type": "display_data"
        }
      ],
      "source": [
        "## Test Confluence Search\n",
        "\n",
        "test_confluence_search(\"Out of Memory Error\", space=\"OCP\")"
      ]
    },
    {
      "cell_type": "raw",
      "metadata": {
        "vscode": {
          "languageId": "raw"
        }
      },
      "source": [
        "# Test 1: Search for \"Out of Memory Error\"\n",
        "\n",
        "test_confluence_search(\"Out of Memory Error\")"
      ]
    },
    {
      "cell_type": "code",
      "execution_count": 34,
      "metadata": {},
      "outputs": [],
      "source": [
        "## Direct Tool Call Test\n"
      ]
    },
    {
      "cell_type": "code",
      "execution_count": 35,
      "metadata": {},
      "outputs": [
        {
          "data": {
            "text/html": [
              "<pre style=\"white-space:pre;overflow-x:auto;line-height:normal;font-family:Menlo,'DejaVu Sans Mono',consolas,'Courier New',monospace\">\n",
              "🔧 Testing direct tool call<span style=\"color: #808000; text-decoration-color: #808000\">...</span>\n",
              "</pre>\n"
            ],
            "text/plain": [
              "\n",
              "🔧 Testing direct tool call\u001b[33m...\u001b[0m\n"
            ]
          },
          "metadata": {},
          "output_type": "display_data"
        },
        {
          "name": "stderr",
          "output_type": "stream",
          "text": [
            "DEBUG:llama_stack_client._base_client:Request options: {'method': 'get', 'url': '/v1/tools', 'params': {'toolgroup_id': 'mcp::atlassian'}, 'post_parser': <function DataWrapper._unwrapper at 0x111874400>}\n",
            "DEBUG:llama_stack_client._base_client:Sending HTTP Request: GET http://localhost:8321/v1/tools?toolgroup_id=mcp%3A%3Aatlassian\n",
            "DEBUG:httpcore.connection:close.started\n",
            "DEBUG:httpcore.connection:close.complete\n",
            "DEBUG:httpcore.connection:connect_tcp.started host='localhost' port=8321 local_address=None timeout=5.0 socket_options=None\n",
            "DEBUG:httpcore.connection:connect_tcp.complete return_value=<httpcore._backends.sync.SyncStream object at 0x1132e2d00>\n",
            "DEBUG:httpcore.http11:send_request_headers.started request=<Request [b'GET']>\n",
            "DEBUG:httpcore.http11:send_request_headers.complete\n",
            "DEBUG:httpcore.http11:send_request_body.started request=<Request [b'GET']>\n",
            "DEBUG:httpcore.http11:send_request_body.complete\n",
            "DEBUG:httpcore.http11:receive_response_headers.started request=<Request [b'GET']>\n",
            "DEBUG:httpcore.http11:receive_response_headers.complete return_value=(b'HTTP/1.1', 200, b'OK', [(b'date', b'Mon, 29 Sep 2025 00:22:01 GMT'), (b'server', b'uvicorn'), (b'content-length', b'50255'), (b'content-type', b'application/json'), (b'x-trace-id', b'02f3146ee93de72c00b6b966727d4ad5')])\n",
            "INFO:httpx:HTTP Request: GET http://localhost:8321/v1/tools?toolgroup_id=mcp%3A%3Aatlassian \"HTTP/1.1 200 OK\"\n",
            "DEBUG:httpcore.http11:receive_response_body.started request=<Request [b'GET']>\n",
            "DEBUG:httpcore.http11:receive_response_body.complete\n",
            "DEBUG:httpcore.http11:response_closed.started\n",
            "DEBUG:httpcore.http11:response_closed.complete\n",
            "DEBUG:llama_stack_client._base_client:HTTP Response: GET http://localhost:8321/v1/tools?toolgroup_id=mcp%3A%3Aatlassian \"200 OK\" Headers({'date': 'Mon, 29 Sep 2025 00:22:01 GMT', 'server': 'uvicorn', 'content-length': '50255', 'content-type': 'application/json', 'x-trace-id': '02f3146ee93de72c00b6b966727d4ad5'})\n"
          ]
        },
        {
          "data": {
            "text/html": [
              "<pre style=\"white-space:pre;overflow-x:auto;line-height:normal;font-family:Menlo,'DejaVu Sans Mono',consolas,'Courier New',monospace\">Available tools: <span style=\"color: #008080; text-decoration-color: #008080; font-weight: bold\">37</span>\n",
              "</pre>\n"
            ],
            "text/plain": [
              "Available tools: \u001b[1;36m37\u001b[0m\n"
            ]
          },
          "metadata": {},
          "output_type": "display_data"
        },
        {
          "data": {
            "text/html": [
              "<pre style=\"white-space:pre;overflow-x:auto;line-height:normal;font-family:Menlo,'DejaVu Sans Mono',consolas,'Courier New',monospace\">Found Confluence tool: confluence_search\n",
              "</pre>\n"
            ],
            "text/plain": [
              "Found Confluence tool: confluence_search\n"
            ]
          },
          "metadata": {},
          "output_type": "display_data"
        },
        {
          "data": {
            "text/html": [
              "<pre style=\"white-space:pre;overflow-x:auto;line-height:normal;font-family:Menlo,'DejaVu Sans Mono',consolas,'Courier New',monospace\">❌ Direct tool call failed: <span style=\"color: #008000; text-decoration-color: #008000\">'ToolsResource'</span> object has no attribute <span style=\"color: #008000; text-decoration-color: #008000\">'call'</span>\n",
              "</pre>\n"
            ],
            "text/plain": [
              "❌ Direct tool call failed: \u001b[32m'ToolsResource'\u001b[0m object has no attribute \u001b[32m'call'\u001b[0m\n"
            ]
          },
          "metadata": {},
          "output_type": "display_data"
        }
      ],
      "source": [
        "# Test direct tool call (bypass agent)\n",
        "def test_direct_tool_call():\n",
        "    \"\"\"Test calling Confluence tools directly\"\"\"\n",
        "    print(\"\\n🔧 Testing direct tool call...\")\n",
        "    \n",
        "    try:\n",
        "        # Get available tools\n",
        "        atlassian_tools = client.tools.list(toolgroup_id=\"mcp::atlassian\")\n",
        "        print(f\"Available tools: {len(atlassian_tools)}\")\n",
        "        \n",
        "        # Find a Confluence search tool\n",
        "        confluence_tool = None\n",
        "        for tool in atlassian_tools:\n",
        "            tool_name = getattr(tool, 'name', getattr(tool, 'identifier', str(tool)))\n",
        "            if 'confluence' in str(tool).lower() and 'search' in str(tool).lower():\n",
        "                confluence_tool = tool_name\n",
        "                break\n",
        "        \n",
        "        if confluence_tool:\n",
        "            print(f\"Found Confluence tool: {confluence_tool}\")\n",
        "            \n",
        "            # Try to call it directly\n",
        "            result = client.tools.call(\n",
        "                tool_name=confluence_tool,\n",
        "                tool_params=[\n",
        "                    {\"name\": \"space\", \"value\": \"OCP\"},\n",
        "                    {\"name\": \"query\", \"value\": \"Out of Memory Error\"}\n",
        "                ]\n",
        "            )\n",
        "            print(f\"✅ Direct tool call successful!\")\n",
        "            print(f\"Result: {result}\")\n",
        "        else:\n",
        "            print(\"❌ No Confluence search tool found\")\n",
        "            \n",
        "    except Exception as e:\n",
        "        print(f\"❌ Direct tool call failed: {e}\")\n",
        "\n",
        "# Run the direct test\n",
        "test_direct_tool_call()\n"
      ]
    },
    {
      "cell_type": "raw",
      "metadata": {
        "vscode": {
          "languageId": "raw"
        }
      },
      "source": [
        "## Test 2: Jira Incident Creation Tests\n"
      ]
    },
    {
      "cell_type": "code",
      "execution_count": 36,
      "metadata": {},
      "outputs": [
        {
          "data": {
            "text/html": [
              "<pre style=\"white-space:pre;overflow-x:auto;line-height:normal;font-family:Menlo,'DejaVu Sans Mono',consolas,'Courier New',monospace\">🎫 TEST <span style=\"color: #008080; text-decoration-color: #008080; font-weight: bold\">2.1</span>: Simple Jira Incident Creation <span style=\"font-weight: bold\">(</span>Improved Agent<span style=\"font-weight: bold\">)</span>\n",
              "</pre>\n"
            ],
            "text/plain": [
              "🎫 TEST \u001b[1;36m2.1\u001b[0m: Simple Jira Incident Creation \u001b[1m(\u001b[0mImproved Agent\u001b[1m)\u001b[0m\n"
            ]
          },
          "metadata": {},
          "output_type": "display_data"
        },
        {
          "data": {
            "text/html": [
              "<pre style=\"white-space:pre;overflow-x:auto;line-height:normal;font-family:Menlo,'DejaVu Sans Mono',consolas,'Courier New',monospace\">======================================================================\n",
              "</pre>\n"
            ],
            "text/plain": [
              "======================================================================\n"
            ]
          },
          "metadata": {},
          "output_type": "display_data"
        },
        {
          "name": "stderr",
          "output_type": "stream",
          "text": [
            "DEBUG:llama_stack_client._base_client:Request options: {'method': 'post', 'url': '/v1/agents/548ba986-cb5e-4e78-aba3-f90bde282001/session', 'files': None, 'idempotency_key': 'stainless-python-retry-2741bb54-156a-4165-b179-62c0bc1b2316', 'json_data': {'session_name': 'test-jira-simple-incident-improved'}}\n",
            "DEBUG:llama_stack_client._base_client:Sending HTTP Request: POST http://localhost:8321/v1/agents/548ba986-cb5e-4e78-aba3-f90bde282001/session\n",
            "DEBUG:httpcore.connection:close.started\n",
            "DEBUG:httpcore.connection:close.complete\n",
            "DEBUG:httpcore.connection:connect_tcp.started host='localhost' port=8321 local_address=None timeout=5.0 socket_options=None\n",
            "DEBUG:httpcore.connection:connect_tcp.complete return_value=<httpcore._backends.sync.SyncStream object at 0x113354f50>\n",
            "DEBUG:httpcore.http11:send_request_headers.started request=<Request [b'POST']>\n",
            "DEBUG:httpcore.http11:send_request_headers.complete\n",
            "DEBUG:httpcore.http11:send_request_body.started request=<Request [b'POST']>\n",
            "DEBUG:httpcore.http11:send_request_body.complete\n",
            "DEBUG:httpcore.http11:receive_response_headers.started request=<Request [b'POST']>\n",
            "DEBUG:httpcore.http11:receive_response_headers.complete return_value=(b'HTTP/1.1', 200, b'OK', [(b'date', b'Mon, 29 Sep 2025 00:22:01 GMT'), (b'server', b'uvicorn'), (b'content-length', b'53'), (b'content-type', b'application/json'), (b'x-trace-id', b'2b43744deae077b58bd308c67d75fb97')])\n",
            "INFO:httpx:HTTP Request: POST http://localhost:8321/v1/agents/548ba986-cb5e-4e78-aba3-f90bde282001/session \"HTTP/1.1 200 OK\"\n",
            "DEBUG:httpcore.http11:receive_response_body.started request=<Request [b'POST']>\n",
            "DEBUG:httpcore.http11:receive_response_body.complete\n",
            "DEBUG:httpcore.http11:response_closed.started\n",
            "DEBUG:httpcore.http11:response_closed.complete\n",
            "DEBUG:llama_stack_client._base_client:HTTP Response: POST http://localhost:8321/v1/agents/548ba986-cb5e-4e78-aba3-f90bde282001/session \"200 OK\" Headers({'date': 'Mon, 29 Sep 2025 00:22:01 GMT', 'server': 'uvicorn', 'content-length': '53', 'content-type': 'application/json', 'x-trace-id': '2b43744deae077b58bd308c67d75fb97'})\n"
          ]
        },
        {
          "data": {
            "text/html": [
              "<pre style=\"white-space:pre;overflow-x:auto;line-height:normal;font-family:Menlo,'DejaVu Sans Mono',consolas,'Courier New',monospace\">\\n🧪 Running test: jira-simple-incident-improved\n",
              "</pre>\n"
            ],
            "text/plain": [
              "\\n🧪 Running test: jira-simple-incident-improved\n"
            ]
          },
          "metadata": {},
          "output_type": "display_data"
        },
        {
          "data": {
            "text/html": [
              "<pre style=\"white-space:pre;overflow-x:auto;line-height:normal;font-family:Menlo,'DejaVu Sans Mono',consolas,'Courier New',monospace\">============================================================\n",
              "</pre>\n"
            ],
            "text/plain": [
              "============================================================\n"
            ]
          },
          "metadata": {},
          "output_type": "display_data"
        },
        {
          "name": "stdout",
          "output_type": "stream",
          "text": [
            "\u001b[1m\u001b[34mTest: \n",
            "Create a simple test Jira incident in the KAN project with these parameters:\n",
            "- project_key: \"KAN\"\n",
            "- summary: \"Test Incident - MCP Atlassian Integration Test\"\n",
            "- issue_type: \"Task\"\n",
            "- description: \"This is a test incident to verify Jira MCP integration is working correctly\"\n",
            "- additional_fields: {}\n",
            "\n",
            "Use the correct dictionary format for additional_fields, not a JSON string.\n",
            "\u001b[0m\n"
          ]
        },
        {
          "data": {
            "text/html": [
              "<pre style=\"white-space:pre;overflow-x:auto;line-height:normal;font-family:Menlo,'DejaVu Sans Mono',consolas,'Courier New',monospace\">============================================================\n",
              "</pre>\n"
            ],
            "text/plain": [
              "============================================================\n"
            ]
          },
          "metadata": {},
          "output_type": "display_data"
        },
        {
          "data": {
            "text/html": [
              "<pre style=\"white-space:pre;overflow-x:auto;line-height:normal;font-family:Menlo,'DejaVu Sans Mono',consolas,'Courier New',monospace\">\n",
              "🚀 Starting turn with <span style=\"color: #008080; text-decoration-color: #008080; font-weight: bold\">1</span> <span style=\"color: #800080; text-decoration-color: #800080; font-weight: bold\">message</span><span style=\"font-weight: bold\">(</span>s<span style=\"font-weight: bold\">)</span>\n",
              "</pre>\n"
            ],
            "text/plain": [
              "\n",
              "🚀 Starting turn with \u001b[1;36m1\u001b[0m \u001b[1;35mmessage\u001b[0m\u001b[1m(\u001b[0ms\u001b[1m)\u001b[0m\n"
            ]
          },
          "metadata": {},
          "output_type": "display_data"
        },
        {
          "data": {
            "text/html": [
              "<pre style=\"white-space:pre;overflow-x:auto;line-height:normal;font-family:Menlo,'DejaVu Sans Mono',consolas,'Courier New',monospace\">Session ID: <span style=\"color: #ffff00; text-decoration-color: #ffff00\">a738314f-1a69-4507-9a81-a0903c802751</span>\n",
              "</pre>\n"
            ],
            "text/plain": [
              "Session ID: \u001b[93ma738314f-1a69-4507-9a81-a0903c802751\u001b[0m\n"
            ]
          },
          "metadata": {},
          "output_type": "display_data"
        },
        {
          "data": {
            "text/html": [
              "<pre style=\"white-space:pre;overflow-x:auto;line-height:normal;font-family:Menlo,'DejaVu Sans Mono',consolas,'Courier New',monospace\">Streaming: <span style=\"color: #00ff00; text-decoration-color: #00ff00; font-style: italic\">True</span>\n",
              "</pre>\n"
            ],
            "text/plain": [
              "Streaming: \u001b[3;92mTrue\u001b[0m\n"
            ]
          },
          "metadata": {},
          "output_type": "display_data"
        },
        {
          "data": {
            "text/html": [
              "<pre style=\"white-space:pre;overflow-x:auto;line-height:normal;font-family:Menlo,'DejaVu Sans Mono',consolas,'Courier New',monospace\">\n",
              "📝 Input Message <span style=\"color: #008080; text-decoration-color: #008080; font-weight: bold\">1</span>:\n",
              "</pre>\n"
            ],
            "text/plain": [
              "\n",
              "📝 Input Message \u001b[1;36m1\u001b[0m:\n"
            ]
          },
          "metadata": {},
          "output_type": "display_data"
        },
        {
          "data": {
            "text/html": [
              "<pre style=\"white-space:pre;overflow-x:auto;line-height:normal;font-family:Menlo,'DejaVu Sans Mono',consolas,'Courier New',monospace\">Role: user\n",
              "</pre>\n"
            ],
            "text/plain": [
              "Role: user\n"
            ]
          },
          "metadata": {},
          "output_type": "display_data"
        },
        {
          "data": {
            "text/html": [
              "<pre style=\"white-space:pre;overflow-x:auto;line-height:normal;font-family:Menlo,'DejaVu Sans Mono',consolas,'Courier New',monospace\">Content: \n",
              "Create a simple test Jira incident in the KAN project with these parameters:\n",
              "- project_key: <span style=\"color: #008000; text-decoration-color: #008000\">\"KAN\"</span>\n",
              "- summary: <span style=\"color: #008000; text-decoration-color: #008000\">\"Test Incident - MCP Atlassian Integration Test\"</span>\n",
              "- issue_type: <span style=\"color: #008000; text-decoration-color: #008000\">\"Task\"</span>\n",
              "- description: <span style=\"color: #008000; text-decoration-color: #008000\">\"This is a test incident to verify Jira MCP integration is working correctly\"</span>\n",
              "- additional_fields: <span style=\"font-weight: bold\">{}</span>\n",
              "\n",
              "Use the correct dictionary format for additional_fields, not a JSON string.\n",
              "\n",
              "</pre>\n"
            ],
            "text/plain": [
              "Content: \n",
              "Create a simple test Jira incident in the KAN project with these parameters:\n",
              "- project_key: \u001b[32m\"KAN\"\u001b[0m\n",
              "- summary: \u001b[32m\"Test Incident - MCP Atlassian Integration Test\"\u001b[0m\n",
              "- issue_type: \u001b[32m\"Task\"\u001b[0m\n",
              "- description: \u001b[32m\"This is a test incident to verify Jira MCP integration is working correctly\"\u001b[0m\n",
              "- additional_fields: \u001b[1m{\u001b[0m\u001b[1m}\u001b[0m\n",
              "\n",
              "Use the correct dictionary format for additional_fields, not a JSON string.\n",
              "\n"
            ]
          },
          "metadata": {},
          "output_type": "display_data"
        },
        {
          "name": "stderr",
          "output_type": "stream",
          "text": [
            "DEBUG:llama_stack_client._base_client:Request options: {'method': 'post', 'url': '/v1/agents/548ba986-cb5e-4e78-aba3-f90bde282001/session/a738314f-1a69-4507-9a81-a0903c802751/turn', 'files': None, 'idempotency_key': 'stainless-python-retry-14baa8e9-43dc-4adb-854f-6f0c21dea6f8', 'json_data': {'messages': [{'role': 'user', 'content': '\\nCreate a simple test Jira incident in the KAN project with these parameters:\\n- project_key: \"KAN\"\\n- summary: \"Test Incident - MCP Atlassian Integration Test\"\\n- issue_type: \"Task\"\\n- description: \"This is a test incident to verify Jira MCP integration is working correctly\"\\n- additional_fields: {}\\n\\nUse the correct dictionary format for additional_fields, not a JSON string.\\n'}], 'documents': None, 'stream': True, 'toolgroups': True}}\n",
            "DEBUG:llama_stack_client._base_client:Sending HTTP Request: POST http://localhost:8321/v1/agents/548ba986-cb5e-4e78-aba3-f90bde282001/session/a738314f-1a69-4507-9a81-a0903c802751/turn\n",
            "DEBUG:httpcore.http11:send_request_headers.started request=<Request [b'POST']>\n",
            "DEBUG:httpcore.http11:send_request_headers.complete\n",
            "DEBUG:httpcore.http11:send_request_body.started request=<Request [b'POST']>\n",
            "DEBUG:httpcore.http11:send_request_body.complete\n",
            "DEBUG:httpcore.http11:receive_response_headers.started request=<Request [b'POST']>\n",
            "DEBUG:httpcore.http11:receive_response_headers.complete return_value=(b'HTTP/1.1', 400, b'Bad Request', [(b'date', b'Mon, 29 Sep 2025 00:22:01 GMT'), (b'server', b'uvicorn'), (b'content-length', b'119'), (b'content-type', b'application/json'), (b'x-trace-id', b'5a7c327c520db6022711accc36312e66')])\n",
            "INFO:httpx:HTTP Request: POST http://localhost:8321/v1/agents/548ba986-cb5e-4e78-aba3-f90bde282001/session/a738314f-1a69-4507-9a81-a0903c802751/turn \"HTTP/1.1 400 Bad Request\"\n",
            "DEBUG:llama_stack_client._base_client:HTTP Response: POST http://localhost:8321/v1/agents/548ba986-cb5e-4e78-aba3-f90bde282001/session/a738314f-1a69-4507-9a81-a0903c802751/turn \"400 Bad Request\" Headers({'date': 'Mon, 29 Sep 2025 00:22:01 GMT', 'server': 'uvicorn', 'content-length': '119', 'content-type': 'application/json', 'x-trace-id': '5a7c327c520db6022711accc36312e66'})\n",
            "DEBUG:llama_stack_client._base_client:Encountered httpx.HTTPStatusError\n",
            "Traceback (most recent call last):\n",
            "  File \"/Users/sudash/Desktop/MyFiles/Sukanta/AIProjects/citi/mcp-test-env/lib/python3.13/site-packages/llama_stack_client/_base_client.py\", line 1011, in request\n",
            "    response.raise_for_status()\n",
            "    ~~~~~~~~~~~~~~~~~~~~~~~~~^^\n",
            "  File \"/Users/sudash/Desktop/MyFiles/Sukanta/AIProjects/citi/mcp-test-env/lib/python3.13/site-packages/httpx/_models.py\", line 829, in raise_for_status\n",
            "    raise HTTPStatusError(message, request=request, response=self)\n",
            "httpx.HTTPStatusError: Client error '400 Bad Request' for url 'http://localhost:8321/v1/agents/548ba986-cb5e-4e78-aba3-f90bde282001/session/a738314f-1a69-4507-9a81-a0903c802751/turn'\n",
            "For more information check: https://developer.mozilla.org/en-US/docs/Web/HTTP/Status/400\n",
            "DEBUG:llama_stack_client._base_client:Not retrying\n",
            "DEBUG:httpcore.http11:receive_response_body.started request=<Request [b'POST']>\n",
            "DEBUG:httpcore.http11:receive_response_body.complete\n",
            "DEBUG:httpcore.http11:response_closed.started\n",
            "DEBUG:httpcore.http11:response_closed.complete\n",
            "DEBUG:llama_stack_client._base_client:Re-raising status error\n",
            "DEBUG:httpcore.connection:close.started\n",
            "DEBUG:httpcore.connection:close.complete\n"
          ]
        },
        {
          "ename": "BadRequestError",
          "evalue": "Error code: 400 - {'error': {'detail': {'errors': [{'loc': ['body', 'toolgroups'], 'msg': 'Input should be a valid list', 'type': 'list_type'}]}}}",
          "output_type": "error",
          "traceback": [
            "\u001b[31m---------------------------------------------------------------------------\u001b[39m",
            "\u001b[31mBadRequestError\u001b[39m                           Traceback (most recent call last)",
            "\u001b[36mCell\u001b[39m\u001b[36m \u001b[39m\u001b[32mIn[36]\u001b[39m\u001b[32m, line 16\u001b[39m\n\u001b[32m      3\u001b[39m \u001b[38;5;28mprint\u001b[39m(\u001b[33m\"\u001b[39m\u001b[33m=\u001b[39m\u001b[33m\"\u001b[39m*\u001b[32m70\u001b[39m)\n\u001b[32m      5\u001b[39m simple_jira_test = \u001b[33m\"\"\"\u001b[39m\n\u001b[32m      6\u001b[39m \u001b[33mCreate a simple test Jira incident in the KAN project with these parameters:\u001b[39m\n\u001b[32m      7\u001b[39m \u001b[33m- project_key: \u001b[39m\u001b[33m\"\u001b[39m\u001b[33mKAN\u001b[39m\u001b[33m\"\u001b[39m\n\u001b[32m   (...)\u001b[39m\u001b[32m     13\u001b[39m \u001b[33mUse the correct dictionary format for additional_fields, not a JSON string.\u001b[39m\n\u001b[32m     14\u001b[39m \u001b[33m\"\"\"\u001b[39m\n\u001b[32m---> \u001b[39m\u001b[32m16\u001b[39m \u001b[43mrun_test_session\u001b[49m\u001b[43m(\u001b[49m\u001b[43mimproved_test_agent\u001b[49m\u001b[43m,\u001b[49m\u001b[43m \u001b[49m\u001b[33;43m\"\u001b[39;49m\u001b[33;43mjira-simple-incident-improved\u001b[39;49m\u001b[33;43m\"\u001b[39;49m\u001b[43m,\u001b[49m\u001b[43m \u001b[49m\u001b[43msimple_jira_test\u001b[49m\u001b[43m)\u001b[49m\n",
            "\u001b[36mCell\u001b[39m\u001b[36m \u001b[39m\u001b[32mIn[19]\u001b[39m\u001b[32m, line 17\u001b[39m, in \u001b[36mrun_test_session\u001b[39m\u001b[34m(agent, test_name, test_prompt, stream)\u001b[39m\n\u001b[32m     10\u001b[39m response = agent.create_turn(\n\u001b[32m     11\u001b[39m     messages=[{\u001b[33m\"\u001b[39m\u001b[33mrole\u001b[39m\u001b[33m\"\u001b[39m: \u001b[33m\"\u001b[39m\u001b[33muser\u001b[39m\u001b[33m\"\u001b[39m, \u001b[33m\"\u001b[39m\u001b[33mcontent\u001b[39m\u001b[33m\"\u001b[39m: test_prompt}],\n\u001b[32m     12\u001b[39m     session_id=session_id,\n\u001b[32m     13\u001b[39m     stream=stream\n\u001b[32m     14\u001b[39m )\n\u001b[32m     16\u001b[39m \u001b[38;5;28;01mif\u001b[39;00m stream:\n\u001b[32m---> \u001b[39m\u001b[32m17\u001b[39m \u001b[43m    \u001b[49m\u001b[38;5;28;43;01mfor\u001b[39;49;00m\u001b[43m \u001b[49m\u001b[43mlog\u001b[49m\u001b[43m \u001b[49m\u001b[38;5;129;43;01min\u001b[39;49;00m\u001b[43m \u001b[49m\u001b[43mEventLogger\u001b[49m\u001b[43m(\u001b[49m\u001b[43m)\u001b[49m\u001b[43m.\u001b[49m\u001b[43mlog\u001b[49m\u001b[43m(\u001b[49m\u001b[43mresponse\u001b[49m\u001b[43m)\u001b[49m\u001b[43m:\u001b[49m\n\u001b[32m     18\u001b[39m \u001b[43m        \u001b[49m\u001b[43mlog\u001b[49m\u001b[43m.\u001b[49m\u001b[43mprint\u001b[49m\u001b[43m(\u001b[49m\u001b[43m)\u001b[49m\n\u001b[32m     19\u001b[39m \u001b[38;5;28;01melse\u001b[39;00m:\n",
            "\u001b[36mFile \u001b[39m\u001b[32m~/Desktop/MyFiles/Sukanta/AIProjects/citi/mcp-test-env/lib/python3.13/site-packages/llama_stack_client/lib/agents/event_logger.py:164\u001b[39m, in \u001b[36mEventLogger.log\u001b[39m\u001b[34m(self, event_generator)\u001b[39m\n\u001b[32m    162\u001b[39m \u001b[38;5;28;01mdef\u001b[39;00m\u001b[38;5;250m \u001b[39m\u001b[34mlog\u001b[39m(\u001b[38;5;28mself\u001b[39m, event_generator: Iterator[Any]) -> Iterator[TurnStreamPrintableEvent]:\n\u001b[32m    163\u001b[39m     printer = TurnStreamEventPrinter()\n\u001b[32m--> \u001b[39m\u001b[32m164\u001b[39m \u001b[43m    \u001b[49m\u001b[38;5;28;43;01mfor\u001b[39;49;00m\u001b[43m \u001b[49m\u001b[43mchunk\u001b[49m\u001b[43m \u001b[49m\u001b[38;5;129;43;01min\u001b[39;49;00m\u001b[43m \u001b[49m\u001b[43mevent_generator\u001b[49m\u001b[43m:\u001b[49m\n\u001b[32m    165\u001b[39m \u001b[43m        \u001b[49m\u001b[38;5;28;43;01myield from\u001b[39;49;00m\u001b[43m \u001b[49m\u001b[43mprinter\u001b[49m\u001b[43m.\u001b[49m\u001b[43myield_printable_events\u001b[49m\u001b[43m(\u001b[49m\u001b[43mchunk\u001b[49m\u001b[43m)\u001b[49m\n",
            "\u001b[36mFile \u001b[39m\u001b[32m~/Desktop/MyFiles/Sukanta/AIProjects/citi/mcp-test-env/lib/python3.13/site-packages/llama_stack_client/lib/agents/agent.py:283\u001b[39m, in \u001b[36mAgent._create_turn_streaming\u001b[39m\u001b[34m(self, messages, session_id, toolgroups, documents)\u001b[39m\n\u001b[32m    280\u001b[39m n_iter = \u001b[32m0\u001b[39m\n\u001b[32m    282\u001b[39m \u001b[38;5;66;03m# 1. create an agent turn\u001b[39;00m\n\u001b[32m--> \u001b[39m\u001b[32m283\u001b[39m turn_response = \u001b[38;5;28;43mself\u001b[39;49m\u001b[43m.\u001b[49m\u001b[43mclient\u001b[49m\u001b[43m.\u001b[49m\u001b[43magents\u001b[49m\u001b[43m.\u001b[49m\u001b[43mturn\u001b[49m\u001b[43m.\u001b[49m\u001b[43mcreate\u001b[49m\u001b[43m(\u001b[49m\n\u001b[32m    284\u001b[39m \u001b[43m    \u001b[49m\u001b[43magent_id\u001b[49m\u001b[43m=\u001b[49m\u001b[38;5;28;43mself\u001b[39;49m\u001b[43m.\u001b[49m\u001b[43magent_id\u001b[49m\u001b[43m,\u001b[49m\n\u001b[32m    285\u001b[39m \u001b[43m    \u001b[49m\u001b[38;5;66;43;03m# use specified session_id or last session created\u001b[39;49;00m\n\u001b[32m    286\u001b[39m \u001b[43m    \u001b[49m\u001b[43msession_id\u001b[49m\u001b[43m=\u001b[49m\u001b[43msession_id\u001b[49m\u001b[43m \u001b[49m\u001b[38;5;129;43;01mor\u001b[39;49;00m\u001b[43m \u001b[49m\u001b[38;5;28;43mself\u001b[39;49m\u001b[43m.\u001b[49m\u001b[43msession_id\u001b[49m\u001b[43m[\u001b[49m\u001b[43m-\u001b[49m\u001b[32;43m1\u001b[39;49m\u001b[43m]\u001b[49m\u001b[43m,\u001b[49m\n\u001b[32m    287\u001b[39m \u001b[43m    \u001b[49m\u001b[43mmessages\u001b[49m\u001b[43m=\u001b[49m\u001b[43mmessages\u001b[49m\u001b[43m,\u001b[49m\n\u001b[32m    288\u001b[39m \u001b[43m    \u001b[49m\u001b[43mstream\u001b[49m\u001b[43m=\u001b[49m\u001b[38;5;28;43;01mTrue\u001b[39;49;00m\u001b[43m,\u001b[49m\n\u001b[32m    289\u001b[39m \u001b[43m    \u001b[49m\u001b[43mdocuments\u001b[49m\u001b[43m=\u001b[49m\u001b[43mdocuments\u001b[49m\u001b[43m,\u001b[49m\n\u001b[32m    290\u001b[39m \u001b[43m    \u001b[49m\u001b[43mtoolgroups\u001b[49m\u001b[43m=\u001b[49m\u001b[43mtoolgroups\u001b[49m\u001b[43m,\u001b[49m\n\u001b[32m    291\u001b[39m \u001b[43m\u001b[49m\u001b[43m)\u001b[49m\n\u001b[32m    293\u001b[39m \u001b[38;5;66;03m# 2. process turn and resume if there's a tool call\u001b[39;00m\n\u001b[32m    294\u001b[39m is_turn_complete = \u001b[38;5;28;01mFalse\u001b[39;00m\n",
            "\u001b[36mFile \u001b[39m\u001b[32m~/Desktop/MyFiles/Sukanta/AIProjects/citi/mcp-test-env/lib/python3.13/site-packages/llama_stack_client/_utils/_utils.py:283\u001b[39m, in \u001b[36mrequired_args.<locals>.inner.<locals>.wrapper\u001b[39m\u001b[34m(*args, **kwargs)\u001b[39m\n\u001b[32m    281\u001b[39m             msg = \u001b[33mf\u001b[39m\u001b[33m\"\u001b[39m\u001b[33mMissing required argument: \u001b[39m\u001b[38;5;132;01m{\u001b[39;00mquote(missing[\u001b[32m0\u001b[39m])\u001b[38;5;132;01m}\u001b[39;00m\u001b[33m\"\u001b[39m\n\u001b[32m    282\u001b[39m     \u001b[38;5;28;01mraise\u001b[39;00m \u001b[38;5;167;01mTypeError\u001b[39;00m(msg)\n\u001b[32m--> \u001b[39m\u001b[32m283\u001b[39m \u001b[38;5;28;01mreturn\u001b[39;00m \u001b[43mfunc\u001b[49m\u001b[43m(\u001b[49m\u001b[43m*\u001b[49m\u001b[43margs\u001b[49m\u001b[43m,\u001b[49m\u001b[43m \u001b[49m\u001b[43m*\u001b[49m\u001b[43m*\u001b[49m\u001b[43mkwargs\u001b[49m\u001b[43m)\u001b[49m\n",
            "\u001b[36mFile \u001b[39m\u001b[32m~/Desktop/MyFiles/Sukanta/AIProjects/citi/mcp-test-env/lib/python3.13/site-packages/llama_stack_client/resources/agents/turn.py:207\u001b[39m, in \u001b[36mTurnResource.create\u001b[39m\u001b[34m(self, session_id, agent_id, messages, documents, stream, tool_config, toolgroups, extra_headers, extra_query, extra_body, timeout)\u001b[39m\n\u001b[32m    205\u001b[39m \u001b[38;5;28;01mif\u001b[39;00m \u001b[38;5;129;01mnot\u001b[39;00m session_id:\n\u001b[32m    206\u001b[39m     \u001b[38;5;28;01mraise\u001b[39;00m \u001b[38;5;167;01mValueError\u001b[39;00m(\u001b[33mf\u001b[39m\u001b[33m\"\u001b[39m\u001b[33mExpected a non-empty value for `session_id` but received \u001b[39m\u001b[38;5;132;01m{\u001b[39;00msession_id\u001b[38;5;132;01m!r}\u001b[39;00m\u001b[33m\"\u001b[39m)\n\u001b[32m--> \u001b[39m\u001b[32m207\u001b[39m \u001b[38;5;28;01mreturn\u001b[39;00m \u001b[38;5;28;43mself\u001b[39;49m\u001b[43m.\u001b[49m\u001b[43m_post\u001b[49m\u001b[43m(\u001b[49m\n\u001b[32m    208\u001b[39m \u001b[43m    \u001b[49m\u001b[33;43mf\u001b[39;49m\u001b[33;43m\"\u001b[39;49m\u001b[33;43m/v1/agents/\u001b[39;49m\u001b[38;5;132;43;01m{\u001b[39;49;00m\u001b[43magent_id\u001b[49m\u001b[38;5;132;43;01m}\u001b[39;49;00m\u001b[33;43m/session/\u001b[39;49m\u001b[38;5;132;43;01m{\u001b[39;49;00m\u001b[43msession_id\u001b[49m\u001b[38;5;132;43;01m}\u001b[39;49;00m\u001b[33;43m/turn\u001b[39;49m\u001b[33;43m\"\u001b[39;49m\u001b[43m,\u001b[49m\n\u001b[32m    209\u001b[39m \u001b[43m    \u001b[49m\u001b[43mbody\u001b[49m\u001b[43m=\u001b[49m\u001b[43mmaybe_transform\u001b[49m\u001b[43m(\u001b[49m\n\u001b[32m    210\u001b[39m \u001b[43m        \u001b[49m\u001b[43m{\u001b[49m\n\u001b[32m    211\u001b[39m \u001b[43m            \u001b[49m\u001b[33;43m\"\u001b[39;49m\u001b[33;43mmessages\u001b[39;49m\u001b[33;43m\"\u001b[39;49m\u001b[43m:\u001b[49m\u001b[43m \u001b[49m\u001b[43mmessages\u001b[49m\u001b[43m,\u001b[49m\n\u001b[32m    212\u001b[39m \u001b[43m            \u001b[49m\u001b[33;43m\"\u001b[39;49m\u001b[33;43mdocuments\u001b[39;49m\u001b[33;43m\"\u001b[39;49m\u001b[43m:\u001b[49m\u001b[43m \u001b[49m\u001b[43mdocuments\u001b[49m\u001b[43m,\u001b[49m\n\u001b[32m    213\u001b[39m \u001b[43m            \u001b[49m\u001b[33;43m\"\u001b[39;49m\u001b[33;43mstream\u001b[39;49m\u001b[33;43m\"\u001b[39;49m\u001b[43m:\u001b[49m\u001b[43m \u001b[49m\u001b[43mstream\u001b[49m\u001b[43m,\u001b[49m\n\u001b[32m    214\u001b[39m \u001b[43m            \u001b[49m\u001b[33;43m\"\u001b[39;49m\u001b[33;43mtool_config\u001b[39;49m\u001b[33;43m\"\u001b[39;49m\u001b[43m:\u001b[49m\u001b[43m \u001b[49m\u001b[43mtool_config\u001b[49m\u001b[43m,\u001b[49m\n\u001b[32m    215\u001b[39m \u001b[43m            \u001b[49m\u001b[33;43m\"\u001b[39;49m\u001b[33;43mtoolgroups\u001b[39;49m\u001b[33;43m\"\u001b[39;49m\u001b[43m:\u001b[49m\u001b[43m \u001b[49m\u001b[43mtoolgroups\u001b[49m\u001b[43m,\u001b[49m\n\u001b[32m    216\u001b[39m \u001b[43m        \u001b[49m\u001b[43m}\u001b[49m\u001b[43m,\u001b[49m\n\u001b[32m    217\u001b[39m \u001b[43m        \u001b[49m\u001b[43mturn_create_params\u001b[49m\u001b[43m.\u001b[49m\u001b[43mTurnCreateParamsStreaming\u001b[49m\n\u001b[32m    218\u001b[39m \u001b[43m        \u001b[49m\u001b[38;5;28;43;01mif\u001b[39;49;00m\u001b[43m \u001b[49m\u001b[43mstream\u001b[49m\n\u001b[32m    219\u001b[39m \u001b[43m        \u001b[49m\u001b[38;5;28;43;01melse\u001b[39;49;00m\u001b[43m \u001b[49m\u001b[43mturn_create_params\u001b[49m\u001b[43m.\u001b[49m\u001b[43mTurnCreateParamsNonStreaming\u001b[49m\u001b[43m,\u001b[49m\n\u001b[32m    220\u001b[39m \u001b[43m    \u001b[49m\u001b[43m)\u001b[49m\u001b[43m,\u001b[49m\n\u001b[32m    221\u001b[39m \u001b[43m    \u001b[49m\u001b[43moptions\u001b[49m\u001b[43m=\u001b[49m\u001b[43mmake_request_options\u001b[49m\u001b[43m(\u001b[49m\n\u001b[32m    222\u001b[39m \u001b[43m        \u001b[49m\u001b[43mextra_headers\u001b[49m\u001b[43m=\u001b[49m\u001b[43mextra_headers\u001b[49m\u001b[43m,\u001b[49m\u001b[43m \u001b[49m\u001b[43mextra_query\u001b[49m\u001b[43m=\u001b[49m\u001b[43mextra_query\u001b[49m\u001b[43m,\u001b[49m\u001b[43m \u001b[49m\u001b[43mextra_body\u001b[49m\u001b[43m=\u001b[49m\u001b[43mextra_body\u001b[49m\u001b[43m,\u001b[49m\u001b[43m \u001b[49m\u001b[43mtimeout\u001b[49m\u001b[43m=\u001b[49m\u001b[43mtimeout\u001b[49m\n\u001b[32m    223\u001b[39m \u001b[43m    \u001b[49m\u001b[43m)\u001b[49m\u001b[43m,\u001b[49m\n\u001b[32m    224\u001b[39m \u001b[43m    \u001b[49m\u001b[43mcast_to\u001b[49m\u001b[43m=\u001b[49m\u001b[43mTurn\u001b[49m\u001b[43m,\u001b[49m\n\u001b[32m    225\u001b[39m \u001b[43m    \u001b[49m\u001b[43mstream\u001b[49m\u001b[43m=\u001b[49m\u001b[43mstream\u001b[49m\u001b[43m \u001b[49m\u001b[38;5;129;43;01mor\u001b[39;49;00m\u001b[43m \u001b[49m\u001b[38;5;28;43;01mFalse\u001b[39;49;00m\u001b[43m,\u001b[49m\n\u001b[32m    226\u001b[39m \u001b[43m    \u001b[49m\u001b[43mstream_cls\u001b[49m\u001b[43m=\u001b[49m\u001b[43mStream\u001b[49m\u001b[43m[\u001b[49m\u001b[43mAgentTurnResponseStreamChunk\u001b[49m\u001b[43m]\u001b[49m\u001b[43m,\u001b[49m\n\u001b[32m    227\u001b[39m \u001b[43m\u001b[49m\u001b[43m)\u001b[49m\n",
            "\u001b[36mFile \u001b[39m\u001b[32m~/Desktop/MyFiles/Sukanta/AIProjects/citi/mcp-test-env/lib/python3.13/site-packages/llama_stack_client/_base_client.py:1222\u001b[39m, in \u001b[36mSyncAPIClient.post\u001b[39m\u001b[34m(self, path, cast_to, body, options, files, stream, stream_cls)\u001b[39m\n\u001b[32m   1208\u001b[39m \u001b[38;5;28;01mdef\u001b[39;00m\u001b[38;5;250m \u001b[39m\u001b[34mpost\u001b[39m(\n\u001b[32m   1209\u001b[39m     \u001b[38;5;28mself\u001b[39m,\n\u001b[32m   1210\u001b[39m     path: \u001b[38;5;28mstr\u001b[39m,\n\u001b[32m   (...)\u001b[39m\u001b[32m   1217\u001b[39m     stream_cls: \u001b[38;5;28mtype\u001b[39m[_StreamT] | \u001b[38;5;28;01mNone\u001b[39;00m = \u001b[38;5;28;01mNone\u001b[39;00m,\n\u001b[32m   1218\u001b[39m ) -> ResponseT | _StreamT:\n\u001b[32m   1219\u001b[39m     opts = FinalRequestOptions.construct(\n\u001b[32m   1220\u001b[39m         method=\u001b[33m\"\u001b[39m\u001b[33mpost\u001b[39m\u001b[33m\"\u001b[39m, url=path, json_data=body, files=to_httpx_files(files), **options\n\u001b[32m   1221\u001b[39m     )\n\u001b[32m-> \u001b[39m\u001b[32m1222\u001b[39m     \u001b[38;5;28;01mreturn\u001b[39;00m cast(ResponseT, \u001b[38;5;28;43mself\u001b[39;49m\u001b[43m.\u001b[49m\u001b[43mrequest\u001b[49m\u001b[43m(\u001b[49m\u001b[43mcast_to\u001b[49m\u001b[43m,\u001b[49m\u001b[43m \u001b[49m\u001b[43mopts\u001b[49m\u001b[43m,\u001b[49m\u001b[43m \u001b[49m\u001b[43mstream\u001b[49m\u001b[43m=\u001b[49m\u001b[43mstream\u001b[49m\u001b[43m,\u001b[49m\u001b[43m \u001b[49m\u001b[43mstream_cls\u001b[49m\u001b[43m=\u001b[49m\u001b[43mstream_cls\u001b[49m\u001b[43m)\u001b[49m)\n",
            "\u001b[36mFile \u001b[39m\u001b[32m~/Desktop/MyFiles/Sukanta/AIProjects/citi/mcp-test-env/lib/python3.13/site-packages/llama_stack_client/_base_client.py:1031\u001b[39m, in \u001b[36mSyncAPIClient.request\u001b[39m\u001b[34m(self, cast_to, options, stream, stream_cls)\u001b[39m\n\u001b[32m   1028\u001b[39m             err.response.read()\n\u001b[32m   1030\u001b[39m         log.debug(\u001b[33m\"\u001b[39m\u001b[33mRe-raising status error\u001b[39m\u001b[33m\"\u001b[39m)\n\u001b[32m-> \u001b[39m\u001b[32m1031\u001b[39m         \u001b[38;5;28;01mraise\u001b[39;00m \u001b[38;5;28mself\u001b[39m._make_status_error_from_response(err.response) \u001b[38;5;28;01mfrom\u001b[39;00m\u001b[38;5;250m \u001b[39m\u001b[38;5;28;01mNone\u001b[39;00m\n\u001b[32m   1033\u001b[39m     \u001b[38;5;28;01mbreak\u001b[39;00m\n\u001b[32m   1035\u001b[39m \u001b[38;5;28;01massert\u001b[39;00m response \u001b[38;5;129;01mis\u001b[39;00m \u001b[38;5;129;01mnot\u001b[39;00m \u001b[38;5;28;01mNone\u001b[39;00m, \u001b[33m\"\u001b[39m\u001b[33mcould not resolve response (should never happen)\u001b[39m\u001b[33m\"\u001b[39m\n",
            "\u001b[31mBadRequestError\u001b[39m: Error code: 400 - {'error': {'detail': {'errors': [{'loc': ['body', 'toolgroups'], 'msg': 'Input should be a valid list', 'type': 'list_type'}]}}}"
          ]
        }
      ],
      "source": [
        "# Test 2.1: Simple Jira Incident Creation (Using Improved Agent)\n",
        "print(\"🎫 TEST 2.1: Simple Jira Incident Creation (Improved Agent)\")\n",
        "print(\"=\"*70)\n",
        "\n",
        "simple_jira_test = \"\"\"\n",
        "Create a simple test Jira incident in the KAN project with these parameters:\n",
        "- project_key: \"KAN\"\n",
        "- summary: \"Test Incident - MCP Atlassian Integration Test\"\n",
        "- issue_type: \"Task\"\n",
        "- description: \"This is a test incident to verify Jira MCP integration is working correctly\"\n",
        "- additional_fields: {}\n",
        "\n",
        "Use the correct dictionary format for additional_fields, not a JSON string.\n",
        "\"\"\"\n",
        "\n",
        "run_test_session(improved_test_agent, \"jira-simple-incident-improved\", simple_jira_test)\n"
      ]
    },
    {
      "cell_type": "raw",
      "metadata": {
        "vscode": {
          "languageId": "raw"
        }
      },
      "source": [
        "## Debug: Fix Toolgroups Parameter Issue\n"
      ]
    },
    {
      "cell_type": "code",
      "execution_count": null,
      "metadata": {},
      "outputs": [],
      "source": [
        "# Debug: Test with explicit toolgroups parameter to fix the 400 error\n",
        "def test_with_explicit_toolgroups():\n",
        "    \"\"\"Test with explicit toolgroups parameter to fix the 'Input should be a valid list' error\"\"\"\n",
        "    print(\"\\n🔧 Testing with explicit toolgroups parameter...\")\n",
        "    \n",
        "    try:\n",
        "        # Create a session\n",
        "        session_id = agent.create_session(\"debug-test\")\n",
        "        print(f\"✅ Session created: {session_id}\")\n",
        "        \n",
        "        # Try to create a turn with explicit toolgroups\n",
        "        # This should fix the 'Input should be a valid list' error\n",
        "        response = agent.client.agents.turn.create(\n",
        "            agent_id=agent.agent_id,\n",
        "            session_id=session_id,\n",
        "            messages=[{\"role\": \"user\", \"content\": \"Search for 'test' in Confluence space 'OCP'\"}],\n",
        "            stream=True,\n",
        "            toolgroups=[\"mcp::atlassian\"]  # Explicit list instead of True\n",
        "        )\n",
        "        \n",
        "        print(\"✅ Turn created successfully with explicit toolgroups!\")\n",
        "        \n",
        "        # Process the streaming response\n",
        "        for log in EventLogger().log(response):\n",
        "            log.print()\n",
        "            \n",
        "        return session_id\n",
        "        \n",
        "    except Exception as e:\n",
        "        print(f\"❌ Error: {e}\")\n",
        "        return None\n",
        "\n",
        "# Run the debug test\n",
        "test_with_explicit_toolgroups()\n"
      ]
    }
  ],
  "metadata": {
    "kernelspec": {
      "display_name": "mcp-test-env",
      "language": "python",
      "name": "python3"
    },
    "language_info": {
      "codemirror_mode": {
        "name": "ipython",
        "version": 3
      },
      "file_extension": ".py",
      "mimetype": "text/x-python",
      "name": "python",
      "nbconvert_exporter": "python",
      "pygments_lexer": "ipython3",
      "version": "3.13.1"
    }
  },
  "nbformat": 4,
  "nbformat_minor": 2
}
