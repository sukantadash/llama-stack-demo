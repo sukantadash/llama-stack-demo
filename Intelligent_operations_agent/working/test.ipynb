{
 "cells": [
  {
   "cell_type": "code",
   "execution_count": 36,
   "id": "aa252d69",
   "metadata": {},
   "outputs": [
    {
     "data": {
      "text/html": [
       "<pre style=\"white-space:pre;overflow-x:auto;line-height:normal;font-family:Menlo,'DejaVu Sans Mono',consolas,'Courier New',monospace\">************ Turn:  <span style=\"color: #008080; text-decoration-color: #008080; font-weight: bold\">0</span> ****************\n",
       "</pre>\n"
      ],
      "text/plain": [
       "************ Turn:  \u001b[1;36m0\u001b[0m ****************\n"
      ]
     },
     "metadata": {},
     "output_type": "display_data"
    },
    {
     "data": {
      "text/html": [
       "<pre style=\"white-space:pre;overflow-x:auto;line-height:normal;font-family:Menlo,'DejaVu Sans Mono',consolas,'Courier New',monospace\">\n",
       "</pre>\n"
      ],
      "text/plain": [
       "\n"
      ]
     },
     "metadata": {},
     "output_type": "display_data"
    },
    {
     "data": {
      "text/html": [
       "<pre style=\"white-space:pre;overflow-x:auto;line-height:normal;font-family:Menlo,'DejaVu Sans Mono',consolas,'Courier New',monospace\">\n",
       "\n",
       "</pre>\n"
      ],
      "text/plain": [
       "\n",
       "\n"
      ]
     },
     "metadata": {},
     "output_type": "display_data"
    },
    {
     "data": {
      "text/html": [
       "<pre style=\"white-space:pre;overflow-x:auto;line-height:normal;font-family:Menlo,'DejaVu Sans Mono',consolas,'Courier New',monospace\">************ Turn:  <span style=\"color: #008080; text-decoration-color: #008080; font-weight: bold\">1</span> ****************\n",
       "</pre>\n"
      ],
      "text/plain": [
       "************ Turn:  \u001b[1;36m1\u001b[0m ****************\n"
      ]
     },
     "metadata": {},
     "output_type": "display_data"
    },
    {
     "data": {
      "text/html": [
       "<pre style=\"white-space:pre;overflow-x:auto;line-height:normal;font-family:Menlo,'DejaVu Sans Mono',consolas,'Courier New',monospace\">- Namespace: oom-test\n",
       "- Pod: oom-test-deployment-55756fd6d7-s8d2k\n",
       "- Error Title: <span style=\"font-weight: bold\">[</span>OOMKilled<span style=\"font-weight: bold\">]</span>\n",
       "- Error Timestamp: <span style=\"font-weight: bold\">[</span><span style=\"color: #008080; text-decoration-color: #008080; font-weight: bold\">2025</span>-<span style=\"color: #008080; text-decoration-color: #008080; font-weight: bold\">10</span>-04T<span style=\"color: #00ff00; text-decoration-color: #00ff00; font-weight: bold\">02:44:20</span>Z<span style=\"font-weight: bold\">]</span>\n",
       "- Error Description: <span style=\"font-weight: bold\">[</span>Container oom-test-container terminated due to OOM<span style=\"font-weight: bold\">]</span>\n",
       "</pre>\n"
      ],
      "text/plain": [
       "- Namespace: oom-test\n",
       "- Pod: oom-test-deployment-55756fd6d7-s8d2k\n",
       "- Error Title: \u001b[1m[\u001b[0mOOMKilled\u001b[1m]\u001b[0m\n",
       "- Error Timestamp: \u001b[1m[\u001b[0m\u001b[1;36m2025\u001b[0m-\u001b[1;36m10\u001b[0m-04T\u001b[1;92m02:44:20\u001b[0mZ\u001b[1m]\u001b[0m\n",
       "- Error Description: \u001b[1m[\u001b[0mContainer oom-test-container terminated due to OOM\u001b[1m]\u001b[0m\n"
      ]
     },
     "metadata": {},
     "output_type": "display_data"
    },
    {
     "data": {
      "text/html": [
       "<pre style=\"white-space:pre;overflow-x:auto;line-height:normal;font-family:Menlo,'DejaVu Sans Mono',consolas,'Courier New',monospace\">\n",
       "\n",
       "</pre>\n"
      ],
      "text/plain": [
       "\n",
       "\n"
      ]
     },
     "metadata": {},
     "output_type": "display_data"
    }
   ],
   "source": [
    "from llama_stack_client import LlamaStackClient, Agent\n",
    "from rich.pretty import pprint\n",
    "import json\n",
    "import uuid\n",
    "from pydantic import BaseModel\n",
    "import rich\n",
    "import os\n",
    "\n",
    "namespace = \"oom-test\"\n",
    "# Uncomment to run on a hosted Llama Stack server\n",
    "client = LlamaStackClient(base_url=\"http://localhost:8321\")\n",
    "\n",
    "MODEL_ID = \"llama-4-scout-17b-16e-w4a16\"\n",
    "\n",
    "base_agent_config = dict(\n",
    "    model=MODEL_ID,\n",
    "    instructions=\"You are an expert OpenShift administrator. Analyze the namespace '{namespace}' for errors and issues.\",\n",
    "    sampling_params={\n",
    "        \"strategy\": {\"type\": \"top_p\", \"temperature\": 1.0, \"top_p\": 0.9},\n",
    "    },\n",
    "    tools=[\n",
    "        {\n",
    "            \"name\": \"mcp::openshift\",\n",
    "            \"args\": {\"namespace\": namespace}\n",
    "        }\n",
    "    ],\n",
    ")\n",
    "\n",
    "vanilla_agent_config = {\n",
    "    **base_agent_config,\n",
    "    \"instructions\": \"\"\"\n",
    "    You are an expert OpenShift administrator. Analyze the namespace '{namespace}' for errors and issues.\n",
    "    \"\"\",\n",
    "}\n",
    "\n",
    "vanilla_agent = Agent(client, **vanilla_agent_config)\n",
    "prompt_chaining_session_id = vanilla_agent.create_session(session_name=f\"vanilla_agent_{uuid.uuid4()}\")\n",
    "\n",
    "prompts = [\n",
    "    \"\"\"\n",
    "    Analyze the namespace '{namespace}' by:\n",
    "            1. Listing all pods \n",
    "            2. get pod logs for the pods listed above\n",
    "            2. Checking events for any errors or warnings\n",
    "            3. Providing initial assessment\"\"\",\n",
    "    \"\"\"Format the output as:\n",
    "            - Namespace: {namespace}\n",
    "            - Pod: [pod name]\n",
    "            - Error Title: [error type/reason] \n",
    "            - Error Timestamp: [timestamp]\n",
    "            - Error Description: [detailed error message]\n",
    "            If no errors found, return: \"No error found\"\"\",\n",
    "]\n",
    "\n",
    "for i, prompt in enumerate(prompts):    \n",
    "    response = vanilla_agent.create_turn(\n",
    "        messages=[\n",
    "            {\n",
    "                \"role\": \"user\",\n",
    "                \"content\": prompt,\n",
    "            }\n",
    "        ],\n",
    "        session_id=prompt_chaining_session_id,\n",
    "        stream=False,\n",
    "    )\n",
    "    print(\"************ Turn: \", i, \"****************\")\n",
    "    print(response.output_message.content)\n",
    "    print(\"\\n\")"
   ]
  },
  {
   "cell_type": "code",
   "execution_count": 38,
   "id": "8c6edf7c",
   "metadata": {},
   "outputs": [
    {
     "data": {
      "text/html": [
       "<pre style=\"white-space:pre;overflow-x:auto;line-height:normal;font-family:Menlo,'DejaVu Sans Mono',consolas,'Courier New',monospace\">************ Turn:  <span style=\"color: #008080; text-decoration-color: #008080; font-weight: bold\">0</span> ****************\n",
       "</pre>\n"
      ],
      "text/plain": [
       "************ Turn:  \u001b[1;36m0\u001b[0m ****************\n"
      ]
     },
     "metadata": {},
     "output_type": "display_data"
    },
    {
     "data": {
      "text/html": [
       "<pre style=\"white-space:pre;overflow-x:auto;line-height:normal;font-family:Menlo,'DejaVu Sans Mono',consolas,'Courier New',monospace\">\n",
       "</pre>\n"
      ],
      "text/plain": [
       "\n"
      ]
     },
     "metadata": {},
     "output_type": "display_data"
    },
    {
     "data": {
      "text/html": [
       "<pre style=\"white-space:pre;overflow-x:auto;line-height:normal;font-family:Menlo,'DejaVu Sans Mono',consolas,'Courier New',monospace\">\n",
       "\n",
       "</pre>\n"
      ],
      "text/plain": [
       "\n",
       "\n"
      ]
     },
     "metadata": {},
     "output_type": "display_data"
    },
    {
     "data": {
      "text/html": [
       "<pre style=\"white-space:pre;overflow-x:auto;line-height:normal;font-family:Menlo,'DejaVu Sans Mono',consolas,'Courier New',monospace\">************ Turn:  <span style=\"color: #008080; text-decoration-color: #008080; font-weight: bold\">1</span> ****************\n",
       "</pre>\n"
      ],
      "text/plain": [
       "************ Turn:  \u001b[1;36m1\u001b[0m ****************\n"
      ]
     },
     "metadata": {},
     "output_type": "display_data"
    },
    {
     "data": {
      "text/html": [
       "<pre style=\"white-space:pre;overflow-x:auto;line-height:normal;font-family:Menlo,'DejaVu Sans Mono',consolas,'Courier New',monospace\">Here is a JSON output of the analysis:\n",
       "\n",
       "```json\n",
       "<span style=\"font-weight: bold\">{</span>\n",
       "  <span style=\"color: #008000; text-decoration-color: #008000\">\"namespace\"</span>: <span style=\"color: #008000; text-decoration-color: #008000\">\"oom-test\"</span>,\n",
       "  <span style=\"color: #008000; text-decoration-color: #008000\">\"analysis_results\"</span>: <span style=\"font-weight: bold\">[</span>\n",
       "    <span style=\"font-weight: bold\">{</span>\n",
       "      <span style=\"color: #008000; text-decoration-color: #008000\">\"Pod\"</span>: <span style=\"color: #008000; text-decoration-color: #008000\">\"oom-test-deployment-55756fd6d7-s8d2k\"</span>,\n",
       "      <span style=\"color: #008000; text-decoration-color: #008000\">\"Error Title\"</span>: <span style=\"color: #008000; text-decoration-color: #008000\">\"OOMKilled\"</span>,\n",
       "      <span style=\"color: #008000; text-decoration-color: #008000\">\"Error Timestamp\"</span>: <span style=\"color: #008000; text-decoration-color: #008000\">\"2025-10-04T02:49:41Z\"</span>,\n",
       "      <span style=\"color: #008000; text-decoration-color: #008000\">\"Error Description\"</span>: <span style=\"color: #008000; text-decoration-color: #008000\">\"The container oom-test-container was terminated due to OOM (Out of Memory) and was </span>\n",
       "<span style=\"color: #008000; text-decoration-color: #008000\">restarted multiple times.\"</span>\n",
       "    <span style=\"font-weight: bold\">}</span>,\n",
       "    <span style=\"font-weight: bold\">{</span>\n",
       "      <span style=\"color: #008000; text-decoration-color: #008000\">\"Pod\"</span>: <span style=\"color: #008000; text-decoration-color: #008000\">\"oom-test-deployment-55756fd6d7-s8d2k\"</span>,\n",
       "      <span style=\"color: #008000; text-decoration-color: #008000\">\"Error Title\"</span>: <span style=\"color: #008000; text-decoration-color: #008000\">\"CrashLoopBackOff\"</span>,\n",
       "      <span style=\"color: #008000; text-decoration-color: #008000\">\"Error Timestamp\"</span>: <span style=\"color: #008000; text-decoration-color: #008000\">\"2025-10-04T02:49:41Z\"</span>,\n",
       "      <span style=\"color: #008000; text-decoration-color: #008000\">\"Error Description\"</span>: <span style=\"color: #008000; text-decoration-color: #008000\">\"The pod oom-test-deployment-55756fd6d7-s8d2k is experiencing a CrashLoopBackOff due to </span>\n",
       "<span style=\"color: #008000; text-decoration-color: #008000\">the OOMKilled error.\"</span>\n",
       "    <span style=\"font-weight: bold\">}</span>\n",
       "  <span style=\"font-weight: bold\">]</span>\n",
       "<span style=\"font-weight: bold\">}</span>\n",
       "```\n",
       "\n",
       "Initial Assessment:\n",
       "\n",
       "The pod `oom-test-deployment-55756fd6d7-s8d2k` in the `oom-test` namespace is experiencing OOM <span style=\"font-weight: bold\">(</span>Out of Memory<span style=\"font-weight: bold\">)</span> \n",
       "issues, causing the container `oom-test-container` to be terminated and restarted multiple times. This is evident \n",
       "from the events and pod status. The pod is in a CrashLoopBackOff state, indicating that it is continuously crashing\n",
       "and being restarted.\n",
       "\n",
       "Recommendations:\n",
       "\n",
       "<span style=\"color: #008080; text-decoration-color: #008080; font-weight: bold\">1</span>. Review the application's memory usage and adjust the memory limit and request accordingly.\n",
       "<span style=\"color: #008080; text-decoration-color: #008080; font-weight: bold\">2</span>. Investigate the cause of the OOM errors and optimize the application's memory usage.\n",
       "<span style=\"color: #008080; text-decoration-color: #008080; font-weight: bold\">3</span>. Consider adding more resources <span style=\"font-weight: bold\">(</span>e.g., memory, CPU<span style=\"font-weight: bold\">)</span> to the node or cluster to prevent OOM errors.\n",
       "</pre>\n"
      ],
      "text/plain": [
       "Here is a JSON output of the analysis:\n",
       "\n",
       "```json\n",
       "\u001b[1m{\u001b[0m\n",
       "  \u001b[32m\"namespace\"\u001b[0m: \u001b[32m\"oom-test\"\u001b[0m,\n",
       "  \u001b[32m\"analysis_results\"\u001b[0m: \u001b[1m[\u001b[0m\n",
       "    \u001b[1m{\u001b[0m\n",
       "      \u001b[32m\"Pod\"\u001b[0m: \u001b[32m\"oom-test-deployment-55756fd6d7-s8d2k\"\u001b[0m,\n",
       "      \u001b[32m\"Error Title\"\u001b[0m: \u001b[32m\"OOMKilled\"\u001b[0m,\n",
       "      \u001b[32m\"Error Timestamp\"\u001b[0m: \u001b[32m\"2025-10-04T02:49:41Z\"\u001b[0m,\n",
       "      \u001b[32m\"Error Description\"\u001b[0m: \u001b[32m\"The container oom-test-container was terminated due to OOM \u001b[0m\u001b[32m(\u001b[0m\u001b[32mOut of Memory\u001b[0m\u001b[32m)\u001b[0m\u001b[32m and was \u001b[0m\n",
       "\u001b[32mrestarted multiple times.\"\u001b[0m\n",
       "    \u001b[1m}\u001b[0m,\n",
       "    \u001b[1m{\u001b[0m\n",
       "      \u001b[32m\"Pod\"\u001b[0m: \u001b[32m\"oom-test-deployment-55756fd6d7-s8d2k\"\u001b[0m,\n",
       "      \u001b[32m\"Error Title\"\u001b[0m: \u001b[32m\"CrashLoopBackOff\"\u001b[0m,\n",
       "      \u001b[32m\"Error Timestamp\"\u001b[0m: \u001b[32m\"2025-10-04T02:49:41Z\"\u001b[0m,\n",
       "      \u001b[32m\"Error Description\"\u001b[0m: \u001b[32m\"The pod oom-test-deployment-55756fd6d7-s8d2k is experiencing a CrashLoopBackOff due to \u001b[0m\n",
       "\u001b[32mthe OOMKilled error.\"\u001b[0m\n",
       "    \u001b[1m}\u001b[0m\n",
       "  \u001b[1m]\u001b[0m\n",
       "\u001b[1m}\u001b[0m\n",
       "```\n",
       "\n",
       "Initial Assessment:\n",
       "\n",
       "The pod `oom-test-deployment-55756fd6d7-s8d2k` in the `oom-test` namespace is experiencing OOM \u001b[1m(\u001b[0mOut of Memory\u001b[1m)\u001b[0m \n",
       "issues, causing the container `oom-test-container` to be terminated and restarted multiple times. This is evident \n",
       "from the events and pod status. The pod is in a CrashLoopBackOff state, indicating that it is continuously crashing\n",
       "and being restarted.\n",
       "\n",
       "Recommendations:\n",
       "\n",
       "\u001b[1;36m1\u001b[0m. Review the application's memory usage and adjust the memory limit and request accordingly.\n",
       "\u001b[1;36m2\u001b[0m. Investigate the cause of the OOM errors and optimize the application's memory usage.\n",
       "\u001b[1;36m3\u001b[0m. Consider adding more resources \u001b[1m(\u001b[0me.g., memory, CPU\u001b[1m)\u001b[0m to the node or cluster to prevent OOM errors.\n"
      ]
     },
     "metadata": {},
     "output_type": "display_data"
    },
    {
     "data": {
      "text/html": [
       "<pre style=\"white-space:pre;overflow-x:auto;line-height:normal;font-family:Menlo,'DejaVu Sans Mono',consolas,'Courier New',monospace\">\n",
       "\n",
       "</pre>\n"
      ],
      "text/plain": [
       "\n",
       "\n"
      ]
     },
     "metadata": {},
     "output_type": "display_data"
    }
   ],
   "source": [
    "from llama_stack_client import LlamaStackClient, Agent\n",
    "from rich.pretty import pprint\n",
    "import json\n",
    "import uuid\n",
    "from pydantic import BaseModel\n",
    "import rich\n",
    "import os\n",
    "\n",
    "namespace = \"oom-test\"\n",
    "# Uncomment to run on a hosted Llama Stack server\n",
    "client = LlamaStackClient(base_url=\"http://localhost:8321\")\n",
    "\n",
    "MODEL_ID = \"llama-4-scout-17b-16e-w4a16\" #\"llama-3-2-3b\" #\"r1-qwen-14b-w4a16\" # \"llama-4-scout-17b-16e-w4a16\"\n",
    "\n",
    "base_agent_config = dict(\n",
    "    model=MODEL_ID,\n",
    "    instructions=\"You are an expert OpenShift administrator. Analyze the namespace '{namespace}' for errors and issues.\",\n",
    "    sampling_params={\n",
    "        \"strategy\": {\"type\": \"top_p\", \"temperature\": 1.0, \"top_p\": 0.9},\n",
    "    },\n",
    "    tools=[\n",
    "        {\n",
    "            \"name\": \"mcp::openshift\",\n",
    "            \"args\": {\"namespace\": namespace}\n",
    "        }\n",
    "    ],\n",
    ")\n",
    "\n",
    "vanilla_agent_config = {\n",
    "    **base_agent_config,\n",
    "    \"instructions\": \"\"\"\n",
    "    You are an expert OpenShift administrator. Analyze the namespace '{namespace}' for errors and issues.\n",
    "    \"\"\",\n",
    "}\n",
    "\n",
    "vanilla_agent = Agent(client, **vanilla_agent_config)\n",
    "prompt_chaining_session_id = vanilla_agent.create_session(session_name=f\"vanilla_agent_{uuid.uuid4()}\")\n",
    "\n",
    "prompts = [\n",
    "    \"\"\"\n",
    "    Analyze the namespace '{namespace}' by:\n",
    "            1. Listing all pods \n",
    "            2. get pod logs for the pods listed above\n",
    "            2. Checking events for any errors or warnings\n",
    "            3. Providing initial assessment\"\"\",\n",
    "    \"\"\"Format the output as JSON:\n",
    "            {\n",
    "                \"namespace\": \"{namespace}\",\n",
    "                \"analysis_results\": [\n",
    "                    {\n",
    "                        \"Pod\": \"[pod name]\",\n",
    "                        \"Error Title\": \"[error type/reason]\",\n",
    "                        \"Error Timestamp\": \"[timestamp]\"\n",
    "                        \"Error Description\": \"[detailed error message]\"\n",
    "                    }\n",
    "                ]\n",
    "            }\n",
    "            \"\"\",\n",
    "]\n",
    "\n",
    "for i, prompt in enumerate(prompts):    \n",
    "    response = vanilla_agent.create_turn(\n",
    "        messages=[\n",
    "            {\n",
    "                \"role\": \"user\",\n",
    "                \"content\": prompt,\n",
    "            }\n",
    "        ],\n",
    "        session_id=prompt_chaining_session_id,\n",
    "        stream=False,\n",
    "    )\n",
    "    print(\"************ Turn: \", i, \"****************\")\n",
    "    print(response.output_message.content)\n",
    "    print(\"\\n\")"
   ]
  }
 ],
 "metadata": {
  "kernelspec": {
   "display_name": "mcp-test-env",
   "language": "python",
   "name": "python3"
  },
  "language_info": {
   "codemirror_mode": {
    "name": "ipython",
    "version": 3
   },
   "file_extension": ".py",
   "mimetype": "text/x-python",
   "name": "python",
   "nbconvert_exporter": "python",
   "pygments_lexer": "ipython3",
   "version": "3.13.1"
  }
 },
 "nbformat": 4,
 "nbformat_minor": 5
}
