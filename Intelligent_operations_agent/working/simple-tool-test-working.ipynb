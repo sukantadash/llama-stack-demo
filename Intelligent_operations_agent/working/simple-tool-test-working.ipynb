{
  "cells": [
    {
      "cell_type": "raw",
      "metadata": {
        "vscode": {
          "languageId": "raw"
        }
      },
      "source": [
        "# Simple MCP Tool Testing - WORKING VERSION\n",
        "\n",
        "This notebook provides a simple way to test MCP Atlassian tools directly.\n",
        "\n",
        "## ✅ SOLUTION FOUND!\n",
        "\n",
        "**The Issue:** `jira_search` tool fails when using `max_results` parameter, but works with only `jql`.\n",
        "\n",
        "**The Fix:** Use `client.tool_runtime.invoke_tool()` with `kwargs` and avoid `max_results` for search.\n"
      ]
    },
    {
      "cell_type": "code",
      "execution_count": 1,
      "metadata": {},
      "outputs": [
        {
          "name": "stdout",
          "output_type": "stream",
          "text": [
            "🔗 Connecting to: http://localhost:8321\n",
            "✅ Client created\n"
          ]
        }
      ],
      "source": [
        "# Simple setup\n",
        "import os\n",
        "from dotenv import load_dotenv\n",
        "from llama_stack_client import LlamaStackClient\n",
        "\n",
        "# Load config\n",
        "load_dotenv('config.env')\n",
        "base_url = os.environ.get('LLAMA_STACK_URL', 'http://localhost:8321')\n",
        "print(f\"🔗 Connecting to: {base_url}\")\n",
        "\n",
        "# Create client\n",
        "client = LlamaStackClient(base_url=base_url)\n",
        "print(\"✅ Client created\")\n"
      ]
    },
    {
      "cell_type": "code",
      "execution_count": 2,
      "metadata": {},
      "outputs": [
        {
          "name": "stdout",
          "output_type": "stream",
          "text": [
            "🔍 Found 37 MCP Atlassian tools\n",
            "🎫 Jira tools: 27\n",
            "  - jira_add_comment\n",
            "  - jira_add_worklog\n",
            "  - jira_batch_create_issues\n",
            "  - jira_batch_get_changelogs\n",
            "  - jira_create_issue\n",
            "  - jira_create_issue_link\n",
            "  - jira_create_sprint\n",
            "  - jira_delete_issue\n",
            "  - jira_download_attachments\n",
            "  - jira_get_agile_boards\n",
            "  - jira_get_board_issues\n",
            "  - jira_get_issue\n",
            "  - jira_get_link_types\n",
            "  - jira_get_project_issues\n",
            "  - jira_get_project_versions\n",
            "  - jira_get_sprint_issues\n",
            "  - jira_get_sprints_from_board\n",
            "  - jira_get_transitions\n",
            "  - jira_get_user_profile\n",
            "  - jira_get_worklog\n",
            "  - jira_link_to_epic\n",
            "  - jira_remove_issue_link\n",
            "  - jira_search\n",
            "  - jira_search_fields\n",
            "  - jira_transition_issue\n",
            "  - jira_update_issue\n",
            "  - jira_update_sprint\n"
          ]
        }
      ],
      "source": [
        "# List available tools\n",
        "tools = client.tools.list(toolgroup_id=\"mcp::atlassian\")\n",
        "print(f\"🔍 Found {len(tools)} MCP Atlassian tools\")\n",
        "\n",
        "# Show Jira tools\n",
        "jira_tools = [t for t in tools if 'jira' in str(t).lower()]\n",
        "print(f\"🎫 Jira tools: {len(jira_tools)}\")\n",
        "for tool in jira_tools:\n",
        "    tool_name = getattr(tool, 'name', getattr(tool, 'identifier', str(tool)))\n",
        "    print(f\"  - {tool_name}\")\n"
      ]
    },
    {
      "cell_type": "code",
      "execution_count": 3,
      "metadata": {},
      "outputs": [
        {
          "name": "stdout",
          "output_type": "stream",
          "text": [
            "🧪 Test: Jira Search\n",
            "=========================\n",
            "✅ Search successful!\n",
            "Result: ToolInvocationResult(content='{\"type\":\"text\",\"text\":\"{\\\\n  \\\\\"total\\\\\": -1,\\\\n  \\\\\"start_at\\\\\": -1,\\\\n  \\\\\"max_results\\\\\": -1,\\\\n  \\\\\"issues\\\\\": [\\\\n    {\\\\n      \\\\\"id\\\\\": \\\\\"10016\\\\\",\\\\n      \\\\\"key\\\\\": \\\\\"KAN-14\\\\\",\\\\n      \\\\\"summary\\\\\": \\\\\"ReActAgent AUTO Test\\\\\",\\\\n      \\\\\"created\\\\\": \\\\\"2025-09-29T12:06:57.977-0700\\\\\",\\\\n      \\\\\"updated\\\\\": \\\\\"2025-09-29T12:06:58.032-0700\\\\\",\\\\n      \\\\\"status\\\\\": {\\\\n        \\\\\"id\\\\\": \\\\\"10000\\\\\",\\\\n        \\\\\"name\\\\\": \\\\\"To Do\\\\\",\\\\n        \\\\\"description\\\\\": \\\\\"\\\\\",\\\\n        \\\\\"icon_url\\\\\": \\\\\"https://sukantadash.atlassian.net/images/icons/statuses/generic.png\\\\\",\\\\n        \\\\\"category\\\\\": {\\\\n          \\\\\"id\\\\\": 2,\\\\n          \\\\\"key\\\\\": \\\\\"new\\\\\",\\\\n          \\\\\"name\\\\\": \\\\\"To Do\\\\\",\\\\n          \\\\\"color_name\\\\\": \\\\\"blue-gray\\\\\"\\\\n        }\\\\n      },\\\\n      \\\\\"issue_type\\\\\": {\\\\n        \\\\\"id\\\\\": \\\\\"10003\\\\\",\\\\n        \\\\\"name\\\\\": \\\\\"Task\\\\\",\\\\n        \\\\\"description\\\\\": \\\\\"Tasks track small, distinct pieces of work.\\\\\",\\\\n        \\\\\"icon_url\\\\\": \\\\\"https://sukantadash.atlassian.net/rest/api/2/universal_avatar/view/type/issuetype/avatar/10318?size=medium\\\\\"\\\\n      },\\\\n      \\\\\"priority\\\\\": {\\\\n        \\\\\"id\\\\\": \\\\\"3\\\\\",\\\\n        \\\\\"name\\\\\": \\\\\"Medium\\\\\",\\\\n        \\\\\"icon_url\\\\\": \\\\\"https://sukantadash.atlassian.net/images/icons/priorities/medium_new.svg\\\\\"\\\\n      },\\\\n      \\\\\"reporter\\\\\": {\\\\n        \\\\\"account_id\\\\\": \\\\\"712020:c9ad9f09-6280-4c5e-b4bb-cbda0d3b82ad\\\\\",\\\\n        \\\\\"display_name\\\\\": \\\\\"Sukanta Dash\\\\\",\\\\n        \\\\\"email\\\\\": \\\\\"sukanta.dash@gmail.com\\\\\",\\\\n        \\\\\"active\\\\\": true,\\\\n        \\\\\"avatar_url\\\\\": \\\\\"https://secure.gravatar.com/avatar/c113a8f0e146ce54c22cef4c27220532?d=https%3A%2F%2Favatar-management--avatars.us-west-2.prod.public.atl-paas.net%2Finitials%2FSD-4.png\\\\\",\\\\n        \\\\\"time_zone\\\\\": \\\\\"America/Los_Angeles\\\\\"\\\\n      },\\\\n      \\\\\"labels\\\\\": [],\\\\n      \\\\\"components\\\\\": [],\\\\n      \\\\\"comments\\\\\": [],\\\\n      \\\\\"attachments\\\\\": [],\\\\n      \\\\\"url\\\\\": \\\\\"https://sukantadash.atlassian.net/rest/api/2/issue/10016\\\\\",\\\\n      \\\\\"fix_versions\\\\\": [],\\\\n      \\\\\"custom_fields\\\\\": {},\\\\n      \\\\\"requested_fields\\\\\": [\\\\n        \\\\\"issuetype\\\\\",\\\\n        \\\\\"summary\\\\\",\\\\n        \\\\\"priority\\\\\",\\\\n        \\\\\"status\\\\\",\\\\n        \\\\\"assignee\\\\\",\\\\n        \\\\\"updated\\\\\",\\\\n        \\\\\"reporter\\\\\",\\\\n        \\\\\"created\\\\\",\\\\n        \\\\\"labels\\\\\",\\\\n        \\\\\"description\\\\\"\\\\n      ],\\\\n      \\\\\"subtasks\\\\\": [],\\\\n      \\\\\"changelogs\\\\\": [],\\\\n      \\\\\"issuelinks\\\\\": []\\\\n    },\\\\n    {\\\\n      \\\\\"id\\\\\": \\\\\"10015\\\\\",\\\\n      \\\\\"key\\\\\": \\\\\"KAN-13\\\\\",\\\\n      \\\\\"summary\\\\\": \\\\\"Pod failing due to OOM error\\\\\",\\\\n      \\\\\"description\\\\\": \\\\\"Pod experiencing Out of Memory errors causing application failures\\\\\",\\\\n      \\\\\"created\\\\\": \\\\\"2025-09-29T12:05:05.960-0700\\\\\",\\\\n      \\\\\"updated\\\\\": \\\\\"2025-09-29T12:05:06.170-0700\\\\\",\\\\n      \\\\\"status\\\\\": {\\\\n        \\\\\"id\\\\\": \\\\\"10000\\\\\",\\\\n        \\\\\"name\\\\\": \\\\\"To Do\\\\\",\\\\n        \\\\\"description\\\\\": \\\\\"\\\\\",\\\\n        \\\\\"icon_url\\\\\": \\\\\"https://sukantadash.atlassian.net/images/icons/statuses/generic.png\\\\\",\\\\n        \\\\\"category\\\\\": {\\\\n          \\\\\"id\\\\\": 2,\\\\n          \\\\\"key\\\\\": \\\\\"new\\\\\",\\\\n          \\\\\"name\\\\\": \\\\\"To Do\\\\\",\\\\n          \\\\\"color_name\\\\\": \\\\\"blue-gray\\\\\"\\\\n        }\\\\n      },\\\\n      \\\\\"issue_type\\\\\": {\\\\n        \\\\\"id\\\\\": \\\\\"10004\\\\\",\\\\n        \\\\\"name\\\\\": \\\\\"Incident\\\\\",\\\\n        \\\\\"description\\\\\": \\\\\"An IT-related event requiring attention.\\\\\",\\\\n        \\\\\"icon_url\\\\\": \\\\\"https://sukantadash.atlassian.net/rest/api/2/universal_avatar/view/type/issuetype/avatar/10304?size=medium\\\\\"\\\\n      },\\\\n      \\\\\"priority\\\\\": {\\\\n        \\\\\"id\\\\\": \\\\\"2\\\\\",\\\\n        \\\\\"name\\\\\": \\\\\"High\\\\\",\\\\n        \\\\\"icon_url\\\\\": \\\\\"https://sukantadash.atlassian.net/images/icons/priorities/high_new.svg\\\\\"\\\\n      },\\\\n      \\\\\"reporter\\\\\": {\\\\n        \\\\\"account_id\\\\\": \\\\\"712020:c9ad9f09-6280-4c5e-b4bb-cbda0d3b82ad\\\\\",\\\\n        \\\\\"display_name\\\\\": \\\\\"Sukanta Dash\\\\\",\\\\n        \\\\\"email\\\\\": \\\\\"sukanta.dash@gmail.com\\\\\",\\\\n        \\\\\"active\\\\\": true,\\\\n        \\\\\"avatar_url\\\\\": \\\\\"https://secure.gravatar.com/avatar/c113a8f0e146ce54c22cef4c27220532?d=https%3A%2F%2Favatar-management--avatars.us-west-2.prod.public.atl-paas.net%2Finitials%2FSD-4.png\\\\\",\\\\n        \\\\\"time_zone\\\\\": \\\\\"America/Los_Angeles\\\\\"\\\\n      },\\\\n      \\\\\"labels\\\\\": [\\\\n        \\\\\"high-priority\\\\\",\\\\n        \\\\\"oom-error\\\\\",\\\\n        \\\\\"pod-failure\\\\\"\\\\n      ],\\\\n      \\\\\"components\\\\\": [],\\\\n      \\\\\"comments\\\\\": [],\\\\n      \\\\\"attachments\\\\\": [],\\\\n      \\\\\"url\\\\\": \\\\\"https://sukantadash.atlassian.net/rest/api/2/issue/10015\\\\\",\\\\n      \\\\\"fix_versions\\\\\": [],\\\\n      \\\\\"custom_fields\\\\\": {},\\\\n      \\\\\"requested_fields\\\\\": [\\\\n        \\\\\"issuetype\\\\\",\\\\n        \\\\\"summary\\\\\",\\\\n        \\\\\"priority\\\\\",\\\\n        \\\\\"status\\\\\",\\\\n        \\\\\"assignee\\\\\",\\\\n        \\\\\"updated\\\\\",\\\\n        \\\\\"reporter\\\\\",\\\\n        \\\\\"created\\\\\",\\\\n        \\\\\"labels\\\\\",\\\\n        \\\\\"description\\\\\"\\\\n      ],\\\\n      \\\\\"subtasks\\\\\": [],\\\\n      \\\\\"changelogs\\\\\": [],\\\\n      \\\\\"issuelinks\\\\\": []\\\\n    },\\\\n    {\\\\n      \\\\\"id\\\\\": \\\\\"10014\\\\\",\\\\n      \\\\\"key\\\\\": \\\\\"KAN-12\\\\\",\\\\n      \\\\\"summary\\\\\": \\\\\"Direct Tool Runtime Test Issue 2\\\\\",\\\\n      \\\\\"description\\\\\": \\\\\"This issue was created using direct tool runtime API\\\\\",\\\\n      \\\\\"created\\\\\": \\\\\"2025-09-29T12:05:04.354-0700\\\\\",\\\\n      \\\\\"updated\\\\\": \\\\\"2025-09-29T12:05:04.442-0700\\\\\",\\\\n      \\\\\"status\\\\\": {\\\\n        \\\\\"id\\\\\": \\\\\"10000\\\\\",\\\\n        \\\\\"name\\\\\": \\\\\"To Do\\\\\",\\\\n        \\\\\"description\\\\\": \\\\\"\\\\\",\\\\n        \\\\\"icon_url\\\\\": \\\\\"https://sukantadash.atlassian.net/images/icons/statuses/generic.png\\\\\",\\\\n        \\\\\"category\\\\\": {\\\\n          \\\\\"id\\\\\": 2,\\\\n          \\\\\"key\\\\\": \\\\\"new\\\\\",\\\\n          \\\\\"name\\\\\": \\\\\"To Do\\\\\",\\\\n          \\\\\"color_name\\\\\": \\\\\"blue-gray\\\\\"\\\\n        }\\\\n      },\\\\n      \\\\\"issue_type\\\\\": {\\\\n        \\\\\"id\\\\\": \\\\\"10003\\\\\",\\\\n        \\\\\"name\\\\\": \\\\\"Task\\\\\",\\\\n        \\\\\"description\\\\\": \\\\\"Tasks track small, distinct pieces of work.\\\\\",\\\\n        \\\\\"icon_url\\\\\": \\\\\"https://sukantadash.atlassian.net/rest/api/2/universal_avatar/view/type/issuetype/avatar/10318?size=medium\\\\\"\\\\n      },\\\\n      \\\\\"priority\\\\\": {\\\\n        \\\\\"id\\\\\": \\\\\"3\\\\\",\\\\n        \\\\\"name\\\\\": \\\\\"Medium\\\\\",\\\\n        \\\\\"icon_url\\\\\": \\\\\"https://sukantadash.atlassian.net/images/icons/priorities/medium_new.svg\\\\\"\\\\n      },\\\\n      \\\\\"reporter\\\\\": {\\\\n        \\\\\"account_id\\\\\": \\\\\"712020:c9ad9f09-6280-4c5e-b4bb-cbda0d3b82ad\\\\\",\\\\n        \\\\\"display_name\\\\\": \\\\\"Sukanta Dash\\\\\",\\\\n        \\\\\"email\\\\\": \\\\\"sukanta.dash@gmail.com\\\\\",\\\\n        \\\\\"active\\\\\": true,\\\\n        \\\\\"avatar_url\\\\\": \\\\\"https://secure.gravatar.com/avatar/c113a8f0e146ce54c22cef4c27220532?d=https%3A%2F%2Favatar-management--avatars.us-west-2.prod.public.atl-paas.net%2Finitials%2FSD-4.png\\\\\",\\\\n        \\\\\"time_zone\\\\\": \\\\\"America/Los_Angeles\\\\\"\\\\n      },\\\\n      \\\\\"labels\\\\\": [],\\\\n      \\\\\"components\\\\\": [],\\\\n      \\\\\"comments\\\\\": [],\\\\n      \\\\\"attachments\\\\\": [],\\\\n      \\\\\"url\\\\\": \\\\\"https://sukantadash.atlassian.net/rest/api/2/issue/10014\\\\\",\\\\n      \\\\\"fix_versions\\\\\": [],\\\\n      \\\\\"custom_fields\\\\\": {},\\\\n      \\\\\"requested_fields\\\\\": [\\\\n        \\\\\"issuetype\\\\\",\\\\n        \\\\\"summary\\\\\",\\\\n        \\\\\"priority\\\\\",\\\\n        \\\\\"status\\\\\",\\\\n        \\\\\"assignee\\\\\",\\\\n        \\\\\"updated\\\\\",\\\\n        \\\\\"reporter\\\\\",\\\\n        \\\\\"created\\\\\",\\\\n        \\\\\"labels\\\\\",\\\\n        \\\\\"description\\\\\"\\\\n      ],\\\\n      \\\\\"subtasks\\\\\": [],\\\\n      \\\\\"changelogs\\\\\": [],\\\\n      \\\\\"issuelinks\\\\\": []\\\\n    },\\\\n    {\\\\n      \\\\\"id\\\\\": \\\\\"10013\\\\\",\\\\n      \\\\\"key\\\\\": \\\\\"KAN-11\\\\\",\\\\n      \\\\\"summary\\\\\": \\\\\"Direct Tool Runtime Test Issue\\\\\",\\\\n      \\\\\"description\\\\\": \\\\\"This issue was created using direct tool runtime API\\\\\",\\\\n      \\\\\"created\\\\\": \\\\\"2025-09-29T12:04:05.467-0700\\\\\",\\\\n      \\\\\"updated\\\\\": \\\\\"2025-09-29T12:04:05.534-0700\\\\\",\\\\n      \\\\\"status\\\\\": {\\\\n        \\\\\"id\\\\\": \\\\\"10000\\\\\",\\\\n        \\\\\"name\\\\\": \\\\\"To Do\\\\\",\\\\n        \\\\\"description\\\\\": \\\\\"\\\\\",\\\\n        \\\\\"icon_url\\\\\": \\\\\"https://sukantadash.atlassian.net/images/icons/statuses/generic.png\\\\\",\\\\n        \\\\\"category\\\\\": {\\\\n          \\\\\"id\\\\\": 2,\\\\n          \\\\\"key\\\\\": \\\\\"new\\\\\",\\\\n          \\\\\"name\\\\\": \\\\\"To Do\\\\\",\\\\n          \\\\\"color_name\\\\\": \\\\\"blue-gray\\\\\"\\\\n        }\\\\n      },\\\\n      \\\\\"issue_type\\\\\": {\\\\n        \\\\\"id\\\\\": \\\\\"10003\\\\\",\\\\n        \\\\\"name\\\\\": \\\\\"Task\\\\\",\\\\n        \\\\\"description\\\\\": \\\\\"Tasks track small, distinct pieces of work.\\\\\",\\\\n        \\\\\"icon_url\\\\\": \\\\\"https://sukantadash.atlassian.net/rest/api/2/universal_avatar/view/type/issuetype/avatar/10318?size=medium\\\\\"\\\\n      },\\\\n      \\\\\"priority\\\\\": {\\\\n        \\\\\"id\\\\\": \\\\\"3\\\\\",\\\\n        \\\\\"name\\\\\": \\\\\"Medium\\\\\",\\\\n        \\\\\"icon_url\\\\\": \\\\\"https://sukantadash.atlassian.net/images/icons/priorities/medium_new.svg\\\\\"\\\\n      },\\\\n      \\\\\"reporter\\\\\": {\\\\n        \\\\\"account_id\\\\\": \\\\\"712020:c9ad9f09-6280-4c5e-b4bb-cbda0d3b82ad\\\\\",\\\\n        \\\\\"display_name\\\\\": \\\\\"Sukanta Dash\\\\\",\\\\n        \\\\\"email\\\\\": \\\\\"sukanta.dash@gmail.com\\\\\",\\\\n        \\\\\"active\\\\\": true,\\\\n        \\\\\"avatar_url\\\\\": \\\\\"https://secure.gravatar.com/avatar/c113a8f0e146ce54c22cef4c27220532?d=https%3A%2F%2Favatar-management--avatars.us-west-2.prod.public.atl-paas.net%2Finitials%2FSD-4.png\\\\\",\\\\n        \\\\\"time_zone\\\\\": \\\\\"America/Los_Angeles\\\\\"\\\\n      },\\\\n      \\\\\"labels\\\\\": [],\\\\n      \\\\\"components\\\\\": [],\\\\n      \\\\\"comments\\\\\": [],\\\\n      \\\\\"attachments\\\\\": [],\\\\n      \\\\\"url\\\\\": \\\\\"https://sukantadash.atlassian.net/rest/api/2/issue/10013\\\\\",\\\\n      \\\\\"fix_versions\\\\\": [],\\\\n      \\\\\"custom_fields\\\\\": {},\\\\n      \\\\\"requested_fields\\\\\": [\\\\n        \\\\\"issuetype\\\\\",\\\\n        \\\\\"summary\\\\\",\\\\n        \\\\\"priority\\\\\",\\\\n        \\\\\"status\\\\\",\\\\n        \\\\\"assignee\\\\\",\\\\n        \\\\\"updated\\\\\",\\\\n        \\\\\"reporter\\\\\",\\\\n        \\\\\"created\\\\\",\\\\n        \\\\\"labels\\\\\",\\\\n        \\\\\"description\\\\\"\\\\n      ],\\\\n      \\\\\"subtasks\\\\\": [],\\\\n      \\\\\"changelogs\\\\\": [],\\\\n      \\\\\"issuelinks\\\\\": []\\\\n    },\\\\n    {\\\\n      \\\\\"id\\\\\": \\\\\"10012\\\\\",\\\\n      \\\\\"key\\\\\": \\\\\"KAN-10\\\\\",\\\\n      \\\\\"summary\\\\\": \\\\\"Create a Jira issue in the KAN project with summary Hybrid Test and type Task\\\\\",\\\\n      \\\\\"description\\\\\": \\\\\"A task has been created in the KAN project with the summary \\'Hybrid Test\\'.\\\\\",\\\\n      \\\\\"created\\\\\": \\\\\"2025-09-29T10:32:31.994-0700\\\\\",\\\\n      \\\\\"updated\\\\\": \\\\\"2025-09-29T10:32:32.103-0700\\\\\",\\\\n      \\\\\"status\\\\\": {\\\\n        \\\\\"id\\\\\": \\\\\"10000\\\\\",\\\\n        \\\\\"name\\\\\": \\\\\"To Do\\\\\",\\\\n        \\\\\"description\\\\\": \\\\\"\\\\\",\\\\n        \\\\\"icon_url\\\\\": \\\\\"https://sukantadash.atlassian.net/images/icons/statuses/generic.png\\\\\",\\\\n        \\\\\"category\\\\\": {\\\\n          \\\\\"id\\\\\": 2,\\\\n          \\\\\"key\\\\\": \\\\\"new\\\\\",\\\\n          \\\\\"name\\\\\": \\\\\"To Do\\\\\",\\\\n          \\\\\"color_name\\\\\": \\\\\"blue-gray\\\\\"\\\\n        }\\\\n      },\\\\n      \\\\\"issue_type\\\\\": {\\\\n        \\\\\"id\\\\\": \\\\\"10003\\\\\",\\\\n        \\\\\"name\\\\\": \\\\\"Task\\\\\",\\\\n        \\\\\"description\\\\\": \\\\\"Tasks track small, distinct pieces of work.\\\\\",\\\\n        \\\\\"icon_url\\\\\": \\\\\"https://sukantadash.atlassian.net/rest/api/2/universal_avatar/view/type/issuetype/avatar/10318?size=medium\\\\\"\\\\n      },\\\\n      \\\\\"priority\\\\\": {\\\\n        \\\\\"id\\\\\": \\\\\"3\\\\\",\\\\n        \\\\\"name\\\\\": \\\\\"Medium\\\\\",\\\\n        \\\\\"icon_url\\\\\": \\\\\"https://sukantadash.atlassian.net/images/icons/priorities/medium_new.svg\\\\\"\\\\n      },\\\\n      \\\\\"reporter\\\\\": {\\\\n        \\\\\"account_id\\\\\": \\\\\"712020:c9ad9f09-6280-4c5e-b4bb-cbda0d3b82ad\\\\\",\\\\n        \\\\\"display_name\\\\\": \\\\\"Sukanta Dash\\\\\",\\\\n        \\\\\"email\\\\\": \\\\\"sukanta.dash@gmail.com\\\\\",\\\\n        \\\\\"active\\\\\": true,\\\\n        \\\\\"avatar_url\\\\\": \\\\\"https://secure.gravatar.com/avatar/c113a8f0e146ce54c22cef4c27220532?d=https%3A%2F%2Favatar-management--avatars.us-west-2.prod.public.atl-paas.net%2Finitials%2FSD-4.png\\\\\",\\\\n        \\\\\"time_zone\\\\\": \\\\\"America/Los_Angeles\\\\\"\\\\n      },\\\\n      \\\\\"labels\\\\\": [],\\\\n      \\\\\"components\\\\\": [],\\\\n      \\\\\"comments\\\\\": [],\\\\n      \\\\\"attachments\\\\\": [],\\\\n      \\\\\"url\\\\\": \\\\\"https://sukantadash.atlassian.net/rest/api/2/issue/10012\\\\\",\\\\n      \\\\\"fix_versions\\\\\": [],\\\\n      \\\\\"custom_fields\\\\\": {},\\\\n      \\\\\"requested_fields\\\\\": [\\\\n        \\\\\"issuetype\\\\\",\\\\n        \\\\\"summary\\\\\",\\\\n        \\\\\"priority\\\\\",\\\\n        \\\\\"status\\\\\",\\\\n        \\\\\"assignee\\\\\",\\\\n        \\\\\"updated\\\\\",\\\\n        \\\\\"reporter\\\\\",\\\\n        \\\\\"created\\\\\",\\\\n        \\\\\"labels\\\\\",\\\\n        \\\\\"description\\\\\"\\\\n      ],\\\\n      \\\\\"subtasks\\\\\": [],\\\\n      \\\\\"changelogs\\\\\": [],\\\\n      \\\\\"issuelinks\\\\\": []\\\\n    },\\\\n    {\\\\n      \\\\\"id\\\\\": \\\\\"10011\\\\\",\\\\n      \\\\\"key\\\\\": \\\\\"KAN-9\\\\\",\\\\n      \\\\\"summary\\\\\": \\\\\"ReActAgent AUTO Test\\\\\",\\\\n      \\\\\"created\\\\\": \\\\\"2025-09-29T08:46:19.124-0700\\\\\",\\\\n      \\\\\"updated\\\\\": \\\\\"2025-09-29T08:46:19.209-0700\\\\\",\\\\n      \\\\\"status\\\\\": {\\\\n        \\\\\"id\\\\\": \\\\\"10000\\\\\",\\\\n        \\\\\"name\\\\\": \\\\\"To Do\\\\\",\\\\n        \\\\\"description\\\\\": \\\\\"\\\\\",\\\\n        \\\\\"icon_url\\\\\": \\\\\"https://sukantadash.atlassian.net/images/icons/statuses/generic.png\\\\\",\\\\n        \\\\\"category\\\\\": {\\\\n          \\\\\"id\\\\\": 2,\\\\n          \\\\\"key\\\\\": \\\\\"new\\\\\",\\\\n          \\\\\"name\\\\\": \\\\\"To Do\\\\\",\\\\n          \\\\\"color_name\\\\\": \\\\\"blue-gray\\\\\"\\\\n        }\\\\n      },\\\\n      \\\\\"issue_type\\\\\": {\\\\n        \\\\\"id\\\\\": \\\\\"10003\\\\\",\\\\n        \\\\\"name\\\\\": \\\\\"Task\\\\\",\\\\n        \\\\\"description\\\\\": \\\\\"Tasks track small, distinct pieces of work.\\\\\",\\\\n        \\\\\"icon_url\\\\\": \\\\\"https://sukantadash.atlassian.net/rest/api/2/universal_avatar/view/type/issuetype/avatar/10318?size=medium\\\\\"\\\\n      },\\\\n      \\\\\"priority\\\\\": {\\\\n        \\\\\"id\\\\\": \\\\\"3\\\\\",\\\\n        \\\\\"name\\\\\": \\\\\"Medium\\\\\",\\\\n        \\\\\"icon_url\\\\\": \\\\\"https://sukantadash.atlassian.net/images/icons/priorities/medium_new.svg\\\\\"\\\\n      },\\\\n      \\\\\"reporter\\\\\": {\\\\n        \\\\\"account_id\\\\\": \\\\\"712020:c9ad9f09-6280-4c5e-b4bb-cbda0d3b82ad\\\\\",\\\\n        \\\\\"display_name\\\\\": \\\\\"Sukanta Dash\\\\\",\\\\n        \\\\\"email\\\\\": \\\\\"sukanta.dash@gmail.com\\\\\",\\\\n        \\\\\"active\\\\\": true,\\\\n        \\\\\"avatar_url\\\\\": \\\\\"https://secure.gravatar.com/avatar/c113a8f0e146ce54c22cef4c27220532?d=https%3A%2F%2Favatar-management--avatars.us-west-2.prod.public.atl-paas.net%2Finitials%2FSD-4.png\\\\\",\\\\n        \\\\\"time_zone\\\\\": \\\\\"America/Los_Angeles\\\\\"\\\\n      },\\\\n      \\\\\"labels\\\\\": [],\\\\n      \\\\\"components\\\\\": [],\\\\n      \\\\\"comments\\\\\": [],\\\\n      \\\\\"attachments\\\\\": [],\\\\n      \\\\\"url\\\\\": \\\\\"https://sukantadash.atlassian.net/rest/api/2/issue/10011\\\\\",\\\\n      \\\\\"fix_versions\\\\\": [],\\\\n      \\\\\"custom_fields\\\\\": {},\\\\n      \\\\\"requested_fields\\\\\": [\\\\n        \\\\\"issuetype\\\\\",\\\\n        \\\\\"summary\\\\\",\\\\n        \\\\\"priority\\\\\",\\\\n        \\\\\"status\\\\\",\\\\n        \\\\\"assignee\\\\\",\\\\n        \\\\\"updated\\\\\",\\\\n        \\\\\"reporter\\\\\",\\\\n        \\\\\"created\\\\\",\\\\n        \\\\\"labels\\\\\",\\\\n        \\\\\"description\\\\\"\\\\n      ],\\\\n      \\\\\"subtasks\\\\\": [],\\\\n      \\\\\"changelogs\\\\\": [],\\\\n      \\\\\"issuelinks\\\\\": []\\\\n    },\\\\n    {\\\\n      \\\\\"id\\\\\": \\\\\"10010\\\\\",\\\\n      \\\\\"key\\\\\": \\\\\"KAN-8\\\\\",\\\\n      \\\\\"summary\\\\\": \\\\\"ReActAgent AUTO Test\\\\\",\\\\n      \\\\\"created\\\\\": \\\\\"2025-09-29T08:35:32.047-0700\\\\\",\\\\n      \\\\\"updated\\\\\": \\\\\"2025-09-29T08:35:32.129-0700\\\\\",\\\\n      \\\\\"status\\\\\": {\\\\n        \\\\\"id\\\\\": \\\\\"10000\\\\\",\\\\n        \\\\\"name\\\\\": \\\\\"To Do\\\\\",\\\\n        \\\\\"description\\\\\": \\\\\"\\\\\",\\\\n        \\\\\"icon_url\\\\\": \\\\\"https://sukantadash.atlassian.net/images/icons/statuses/generic.png\\\\\",\\\\n        \\\\\"category\\\\\": {\\\\n          \\\\\"id\\\\\": 2,\\\\n          \\\\\"key\\\\\": \\\\\"new\\\\\",\\\\n          \\\\\"name\\\\\": \\\\\"To Do\\\\\",\\\\n          \\\\\"color_name\\\\\": \\\\\"blue-gray\\\\\"\\\\n        }\\\\n      },\\\\n      \\\\\"issue_type\\\\\": {\\\\n        \\\\\"id\\\\\": \\\\\"10003\\\\\",\\\\n        \\\\\"name\\\\\": \\\\\"Task\\\\\",\\\\n        \\\\\"description\\\\\": \\\\\"Tasks track small, distinct pieces of work.\\\\\",\\\\n        \\\\\"icon_url\\\\\": \\\\\"https://sukantadash.atlassian.net/rest/api/2/universal_avatar/view/type/issuetype/avatar/10318?size=medium\\\\\"\\\\n      },\\\\n      \\\\\"priority\\\\\": {\\\\n        \\\\\"id\\\\\": \\\\\"3\\\\\",\\\\n        \\\\\"name\\\\\": \\\\\"Medium\\\\\",\\\\n        \\\\\"icon_url\\\\\": \\\\\"https://sukantadash.atlassian.net/images/icons/priorities/medium_new.svg\\\\\"\\\\n      },\\\\n      \\\\\"reporter\\\\\": {\\\\n        \\\\\"account_id\\\\\": \\\\\"712020:c9ad9f09-6280-4c5e-b4bb-cbda0d3b82ad\\\\\",\\\\n        \\\\\"display_name\\\\\": \\\\\"Sukanta Dash\\\\\",\\\\n        \\\\\"email\\\\\": \\\\\"sukanta.dash@gmail.com\\\\\",\\\\n        \\\\\"active\\\\\": true,\\\\n        \\\\\"avatar_url\\\\\": \\\\\"https://secure.gravatar.com/avatar/c113a8f0e146ce54c22cef4c27220532?d=https%3A%2F%2Favatar-management--avatars.us-west-2.prod.public.atl-paas.net%2Finitials%2FSD-4.png\\\\\",\\\\n        \\\\\"time_zone\\\\\": \\\\\"America/Los_Angeles\\\\\"\\\\n      },\\\\n      \\\\\"labels\\\\\": [],\\\\n      \\\\\"components\\\\\": [],\\\\n      \\\\\"comments\\\\\": [],\\\\n      \\\\\"attachments\\\\\": [],\\\\n      \\\\\"url\\\\\": \\\\\"https://sukantadash.atlassian.net/rest/api/2/issue/10010\\\\\",\\\\n      \\\\\"fix_versions\\\\\": [],\\\\n      \\\\\"custom_fields\\\\\": {},\\\\n      \\\\\"requested_fields\\\\\": [\\\\n        \\\\\"issuetype\\\\\",\\\\n        \\\\\"summary\\\\\",\\\\n        \\\\\"priority\\\\\",\\\\n        \\\\\"status\\\\\",\\\\n        \\\\\"assignee\\\\\",\\\\n        \\\\\"updated\\\\\",\\\\n        \\\\\"reporter\\\\\",\\\\n        \\\\\"created\\\\\",\\\\n        \\\\\"labels\\\\\",\\\\n        \\\\\"description\\\\\"\\\\n      ],\\\\n      \\\\\"subtasks\\\\\": [],\\\\n      \\\\\"changelogs\\\\\": [],\\\\n      \\\\\"issuelinks\\\\\": []\\\\n    },\\\\n    {\\\\n      \\\\\"id\\\\\": \\\\\"10009\\\\\",\\\\n      \\\\\"key\\\\\": \\\\\"KAN-7\\\\\",\\\\n      \\\\\"summary\\\\\": \\\\\"ReActAgent Working Test\\\\\",\\\\n      \\\\\"created\\\\\": \\\\\"2025-09-29T08:27:38.198-0700\\\\\",\\\\n      \\\\\"updated\\\\\": \\\\\"2025-09-29T08:27:38.289-0700\\\\\",\\\\n      \\\\\"status\\\\\": {\\\\n        \\\\\"id\\\\\": \\\\\"10000\\\\\",\\\\n        \\\\\"name\\\\\": \\\\\"To Do\\\\\",\\\\n        \\\\\"description\\\\\": \\\\\"\\\\\",\\\\n        \\\\\"icon_url\\\\\": \\\\\"https://sukantadash.atlassian.net/images/icons/statuses/generic.png\\\\\",\\\\n        \\\\\"category\\\\\": {\\\\n          \\\\\"id\\\\\": 2,\\\\n          \\\\\"key\\\\\": \\\\\"new\\\\\",\\\\n          \\\\\"name\\\\\": \\\\\"To Do\\\\\",\\\\n          \\\\\"color_name\\\\\": \\\\\"blue-gray\\\\\"\\\\n        }\\\\n      },\\\\n      \\\\\"issue_type\\\\\": {\\\\n        \\\\\"id\\\\\": \\\\\"10003\\\\\",\\\\n        \\\\\"name\\\\\": \\\\\"Task\\\\\",\\\\n        \\\\\"description\\\\\": \\\\\"Tasks track small, distinct pieces of work.\\\\\",\\\\n        \\\\\"icon_url\\\\\": \\\\\"https://sukantadash.atlassian.net/rest/api/2/universal_avatar/view/type/issuetype/avatar/10318?size=medium\\\\\"\\\\n      },\\\\n      \\\\\"priority\\\\\": {\\\\n        \\\\\"id\\\\\": \\\\\"3\\\\\",\\\\n        \\\\\"name\\\\\": \\\\\"Medium\\\\\",\\\\n        \\\\\"icon_url\\\\\": \\\\\"https://sukantadash.atlassian.net/images/icons/priorities/medium_new.svg\\\\\"\\\\n      },\\\\n      \\\\\"reporter\\\\\": {\\\\n        \\\\\"account_id\\\\\": \\\\\"712020:c9ad9f09-6280-4c5e-b4bb-cbda0d3b82ad\\\\\",\\\\n        \\\\\"display_name\\\\\": \\\\\"Sukanta Dash\\\\\",\\\\n        \\\\\"email\\\\\": \\\\\"sukanta.dash@gmail.com\\\\\",\\\\n        \\\\\"active\\\\\": true,\\\\n        \\\\\"avatar_url\\\\\": \\\\\"https://secure.gravatar.com/avatar/c113a8f0e146ce54c22cef4c27220532?d=https%3A%2F%2Favatar-management--avatars.us-west-2.prod.public.atl-paas.net%2Finitials%2FSD-4.png\\\\\",\\\\n        \\\\\"time_zone\\\\\": \\\\\"America/Los_Angeles\\\\\"\\\\n      },\\\\n      \\\\\"labels\\\\\": [],\\\\n      \\\\\"components\\\\\": [],\\\\n      \\\\\"comments\\\\\": [],\\\\n      \\\\\"attachments\\\\\": [],\\\\n      \\\\\"url\\\\\": \\\\\"https://sukantadash.atlassian.net/rest/api/2/issue/10009\\\\\",\\\\n      \\\\\"fix_versions\\\\\": [],\\\\n      \\\\\"custom_fields\\\\\": {},\\\\n      \\\\\"requested_fields\\\\\": [\\\\n        \\\\\"issuetype\\\\\",\\\\n        \\\\\"summary\\\\\",\\\\n        \\\\\"priority\\\\\",\\\\n        \\\\\"status\\\\\",\\\\n        \\\\\"assignee\\\\\",\\\\n        \\\\\"updated\\\\\",\\\\n        \\\\\"reporter\\\\\",\\\\n        \\\\\"created\\\\\",\\\\n        \\\\\"labels\\\\\",\\\\n        \\\\\"description\\\\\"\\\\n      ],\\\\n      \\\\\"subtasks\\\\\": [],\\\\n      \\\\\"changelogs\\\\\": [],\\\\n      \\\\\"issuelinks\\\\\": []\\\\n    },\\\\n    {\\\\n      \\\\\"id\\\\\": \\\\\"10008\\\\\",\\\\n      \\\\\"key\\\\\": \\\\\"KAN-6\\\\\",\\\\n      \\\\\"summary\\\\\": \\\\\"Direct Test - Pre-Agent\\\\\",\\\\n      \\\\\"description\\\\\": \\\\\"Testing direct tool call before agent test\\\\\",\\\\n      \\\\\"created\\\\\": \\\\\"2025-09-29T08:24:18.727-0700\\\\\",\\\\n      \\\\\"updated\\\\\": \\\\\"2025-09-29T08:24:18.849-0700\\\\\",\\\\n      \\\\\"status\\\\\": {\\\\n        \\\\\"id\\\\\": \\\\\"10000\\\\\",\\\\n        \\\\\"name\\\\\": \\\\\"To Do\\\\\",\\\\n        \\\\\"description\\\\\": \\\\\"\\\\\",\\\\n        \\\\\"icon_url\\\\\": \\\\\"https://sukantadash.atlassian.net/images/icons/statuses/generic.png\\\\\",\\\\n        \\\\\"category\\\\\": {\\\\n          \\\\\"id\\\\\": 2,\\\\n          \\\\\"key\\\\\": \\\\\"new\\\\\",\\\\n          \\\\\"name\\\\\": \\\\\"To Do\\\\\",\\\\n          \\\\\"color_name\\\\\": \\\\\"blue-gray\\\\\"\\\\n        }\\\\n      },\\\\n      \\\\\"issue_type\\\\\": {\\\\n        \\\\\"id\\\\\": \\\\\"10003\\\\\",\\\\n        \\\\\"name\\\\\": \\\\\"Task\\\\\",\\\\n        \\\\\"description\\\\\": \\\\\"Tasks track small, distinct pieces of work.\\\\\",\\\\n        \\\\\"icon_url\\\\\": \\\\\"https://sukantadash.atlassian.net/rest/api/2/universal_avatar/view/type/issuetype/avatar/10318?size=medium\\\\\"\\\\n      },\\\\n      \\\\\"priority\\\\\": {\\\\n        \\\\\"id\\\\\": \\\\\"3\\\\\",\\\\n        \\\\\"name\\\\\": \\\\\"Medium\\\\\",\\\\n        \\\\\"icon_url\\\\\": \\\\\"https://sukantadash.atlassian.net/images/icons/priorities/medium_new.svg\\\\\"\\\\n      },\\\\n      \\\\\"reporter\\\\\": {\\\\n        \\\\\"account_id\\\\\": \\\\\"712020:c9ad9f09-6280-4c5e-b4bb-cbda0d3b82ad\\\\\",\\\\n        \\\\\"display_name\\\\\": \\\\\"Sukanta Dash\\\\\",\\\\n        \\\\\"email\\\\\": \\\\\"sukanta.dash@gmail.com\\\\\",\\\\n        \\\\\"active\\\\\": true,\\\\n        \\\\\"avatar_url\\\\\": \\\\\"https://secure.gravatar.com/avatar/c113a8f0e146ce54c22cef4c27220532?d=https%3A%2F%2Favatar-management--avatars.us-west-2.prod.public.atl-paas.net%2Finitials%2FSD-4.png\\\\\",\\\\n        \\\\\"time_zone\\\\\": \\\\\"America/Los_Angeles\\\\\"\\\\n      },\\\\n      \\\\\"labels\\\\\": [],\\\\n      \\\\\"components\\\\\": [],\\\\n      \\\\\"comments\\\\\": [],\\\\n      \\\\\"attachments\\\\\": [],\\\\n      \\\\\"url\\\\\": \\\\\"https://sukantadash.atlassian.net/rest/api/2/issue/10008\\\\\",\\\\n      \\\\\"fix_versions\\\\\": [],\\\\n      \\\\\"custom_fields\\\\\": {},\\\\n      \\\\\"requested_fields\\\\\": [\\\\n        \\\\\"issuetype\\\\\",\\\\n        \\\\\"summary\\\\\",\\\\n        \\\\\"priority\\\\\",\\\\n        \\\\\"status\\\\\",\\\\n        \\\\\"assignee\\\\\",\\\\n        \\\\\"updated\\\\\",\\\\n        \\\\\"reporter\\\\\",\\\\n        \\\\\"created\\\\\",\\\\n        \\\\\"labels\\\\\",\\\\n        \\\\\"description\\\\\"\\\\n      ],\\\\n      \\\\\"subtasks\\\\\": [],\\\\n      \\\\\"changelogs\\\\\": [],\\\\n      \\\\\"issuelinks\\\\\": []\\\\n    },\\\\n    {\\\\n      \\\\\"id\\\\\": \\\\\"10007\\\\\",\\\\n      \\\\\"key\\\\\": \\\\\"KAN-5\\\\\",\\\\n      \\\\\"summary\\\\\": \\\\\"Direct Test Issue\\\\\",\\\\n      \\\\\"description\\\\\": \\\\\"Testing direct tool call\\\\\",\\\\n      \\\\\"created\\\\\": \\\\\"2025-09-29T08:21:43.936-0700\\\\\",\\\\n      \\\\\"updated\\\\\": \\\\\"2025-09-29T08:21:44.053-0700\\\\\",\\\\n      \\\\\"status\\\\\": {\\\\n        \\\\\"id\\\\\": \\\\\"10000\\\\\",\\\\n        \\\\\"name\\\\\": \\\\\"To Do\\\\\",\\\\n        \\\\\"description\\\\\": \\\\\"\\\\\",\\\\n        \\\\\"icon_url\\\\\": \\\\\"https://sukantadash.atlassian.net/images/icons/statuses/generic.png\\\\\",\\\\n        \\\\\"category\\\\\": {\\\\n          \\\\\"id\\\\\": 2,\\\\n          \\\\\"key\\\\\": \\\\\"new\\\\\",\\\\n          \\\\\"name\\\\\": \\\\\"To Do\\\\\",\\\\n          \\\\\"color_name\\\\\": \\\\\"blue-gray\\\\\"\\\\n        }\\\\n      },\\\\n      \\\\\"issue_type\\\\\": {\\\\n        \\\\\"id\\\\\": \\\\\"10003\\\\\",\\\\n        \\\\\"name\\\\\": \\\\\"Task\\\\\",\\\\n        \\\\\"description\\\\\": \\\\\"Tasks track small, distinct pieces of work.\\\\\",\\\\n        \\\\\"icon_url\\\\\": \\\\\"https://sukantadash.atlassian.net/rest/api/2/universal_avatar/view/type/issuetype/avatar/10318?size=medium\\\\\"\\\\n      },\\\\n      \\\\\"priority\\\\\": {\\\\n        \\\\\"id\\\\\": \\\\\"3\\\\\",\\\\n        \\\\\"name\\\\\": \\\\\"Medium\\\\\",\\\\n        \\\\\"icon_url\\\\\": \\\\\"https://sukantadash.atlassian.net/images/icons/priorities/medium_new.svg\\\\\"\\\\n      },\\\\n      \\\\\"reporter\\\\\": {\\\\n        \\\\\"account_id\\\\\": \\\\\"712020:c9ad9f09-6280-4c5e-b4bb-cbda0d3b82ad\\\\\",\\\\n        \\\\\"display_name\\\\\": \\\\\"Sukanta Dash\\\\\",\\\\n        \\\\\"email\\\\\": \\\\\"sukanta.dash@gmail.com\\\\\",\\\\n        \\\\\"active\\\\\": true,\\\\n        \\\\\"avatar_url\\\\\": \\\\\"https://secure.gravatar.com/avatar/c113a8f0e146ce54c22cef4c27220532?d=https%3A%2F%2Favatar-management--avatars.us-west-2.prod.public.atl-paas.net%2Finitials%2FSD-4.png\\\\\",\\\\n        \\\\\"time_zone\\\\\": \\\\\"America/Los_Angeles\\\\\"\\\\n      },\\\\n      \\\\\"labels\\\\\": [],\\\\n      \\\\\"components\\\\\": [],\\\\n      \\\\\"comments\\\\\": [],\\\\n      \\\\\"attachments\\\\\": [],\\\\n      \\\\\"url\\\\\": \\\\\"https://sukantadash.atlassian.net/rest/api/2/issue/10007\\\\\",\\\\n      \\\\\"fix_versions\\\\\": [],\\\\n      \\\\\"custom_fields\\\\\": {},\\\\n      \\\\\"requested_fields\\\\\": [\\\\n        \\\\\"issuetype\\\\\",\\\\n        \\\\\"summary\\\\\",\\\\n        \\\\\"priority\\\\\",\\\\n        \\\\\"status\\\\\",\\\\n        \\\\\"assignee\\\\\",\\\\n        \\\\\"updated\\\\\",\\\\n        \\\\\"reporter\\\\\",\\\\n        \\\\\"created\\\\\",\\\\n        \\\\\"labels\\\\\",\\\\n        \\\\\"description\\\\\"\\\\n      ],\\\\n      \\\\\"subtasks\\\\\": [],\\\\n      \\\\\"changelogs\\\\\": [],\\\\n      \\\\\"issuelinks\\\\\": []\\\\n    }\\\\n  ]\\\\n}\",\"annotations\":null}', error_code=0, error_message=None, metadata=None)\n"
          ]
        }
      ],
      "source": [
        "# WORKING: Jira Search (without max_results)\n",
        "print(\"🧪 Test: Jira Search\")\n",
        "print(\"=\"*25)\n",
        "\n",
        "try:\n",
        "    result = client.tool_runtime.invoke_tool(\n",
        "        tool_name=\"jira_search\",\n",
        "        kwargs={\"jql\": \"project = KAN ORDER BY created DESC\"}\n",
        "    )\n",
        "    print(\"✅ Search successful!\")\n",
        "    print(f\"Result: {result}\")\n",
        "except Exception as e:\n",
        "    print(f\"❌ Search failed: {e}\")\n"
      ]
    },
    {
      "cell_type": "code",
      "execution_count": 4,
      "metadata": {},
      "outputs": [
        {
          "name": "stdout",
          "output_type": "stream",
          "text": [
            "🧪 Test: Create Jira Issue\n",
            "==============================\n",
            "✅ Issue created successfully!\n",
            "Result: ToolInvocationResult(content='{\"type\":\"text\",\"text\":\"{\\\\n  \\\\\"message\\\\\": \\\\\"Issue created successfully\\\\\",\\\\n  \\\\\"issue\\\\\": {\\\\n    \\\\\"id\\\\\": \\\\\"10017\\\\\",\\\\n    \\\\\"key\\\\\": \\\\\"KAN-15\\\\\",\\\\n    \\\\\"summary\\\\\": \\\\\"Pod failing due to OOM error\\\\\",\\\\n    \\\\\"url\\\\\": \\\\\"https://sukantadash.atlassian.net/rest/api/2/issue/10017\\\\\",\\\\n    \\\\\"description\\\\\": \\\\\"Pod experiencing Out of Memory errors causing failures.\\\\\",\\\\n    \\\\\"status\\\\\": {\\\\n      \\\\\"name\\\\\": \\\\\"To Do\\\\\",\\\\n      \\\\\"category\\\\\": \\\\\"To Do\\\\\",\\\\n      \\\\\"color\\\\\": \\\\\"blue-gray\\\\\"\\\\n    },\\\\n    \\\\\"issue_type\\\\\": {\\\\n      \\\\\"name\\\\\": \\\\\"Incident\\\\\"\\\\n    },\\\\n    \\\\\"priority\\\\\": {\\\\n      \\\\\"name\\\\\": \\\\\"High\\\\\"\\\\n    },\\\\n    \\\\\"project\\\\\": {\\\\n      \\\\\"key\\\\\": \\\\\"KAN\\\\\",\\\\n      \\\\\"name\\\\\": \\\\\"Ocp support\\\\\",\\\\n      \\\\\"avatar_url\\\\\": \\\\\"https://sukantadash.atlassian.net/rest/api/2/universal_avatar/view/type/project/avatar/10410\\\\\"\\\\n    },\\\\n    \\\\\"worklog\\\\\": {\\\\n      \\\\\"startAt\\\\\": 0,\\\\n      \\\\\"maxResults\\\\\": 20,\\\\n      \\\\\"total\\\\\": 0,\\\\n      \\\\\"worklogs\\\\\": []\\\\n    },\\\\n    \\\\\"assignee\\\\\": {\\\\n      \\\\\"display_name\\\\\": \\\\\"Unassigned\\\\\"\\\\n    },\\\\n    \\\\\"reporter\\\\\": {\\\\n      \\\\\"display_name\\\\\": \\\\\"Sukanta Dash\\\\\",\\\\n      \\\\\"name\\\\\": \\\\\"Sukanta Dash\\\\\",\\\\n      \\\\\"email\\\\\": \\\\\"sukanta.dash@gmail.com\\\\\",\\\\n      \\\\\"avatar_url\\\\\": \\\\\"https://secure.gravatar.com/avatar/c113a8f0e146ce54c22cef4c27220532?d=https%3A%2F%2Favatar-management--avatars.us-west-2.prod.public.atl-paas.net%2Finitials%2FSD-4.png\\\\\"\\\\n    },\\\\n    \\\\\"labels\\\\\": [\\\\n      \\\\\"high-priority\\\\\",\\\\n      \\\\\"oom-error\\\\\",\\\\n      \\\\\"pod-failure\\\\\"\\\\n    ],\\\\n    \\\\\"created\\\\\": \\\\\"2025-09-29T12:13:13.179-0700\\\\\",\\\\n    \\\\\"updated\\\\\": \\\\\"2025-09-29T12:13:13.294-0700\\\\\"\\\\n  }\\\\n}\",\"annotations\":null}', error_code=0, error_message=None, metadata=None)\n"
          ]
        }
      ],
      "source": [
        "# WORKING: Create Jira Issue\n",
        "print(\"🧪 Test: Create Jira Issue\")\n",
        "print(\"=\"*30)\n",
        "\n",
        "try:\n",
        "    result = client.tool_runtime.invoke_tool(\n",
        "        tool_name=\"jira_create_issue\",\n",
        "        kwargs={\n",
        "            \"project_key\": \"KAN\",\n",
        "            \"summary\": \"Pod failing due to OOM error\",\n",
        "            \"issue_type\": \"Incident\",\n",
        "            \"description\": \"Pod experiencing Out of Memory errors causing failures.\",\n",
        "            \"additional_fields\": {\n",
        "                \"priority\": {\"name\": \"High\"},\n",
        "                \"labels\": [\"oom-error\", \"pod-failure\", \"high-priority\"]\n",
        "            }\n",
        "        }\n",
        "    )\n",
        "    print(\"✅ Issue created successfully!\")\n",
        "    print(f\"Result: {result}\")\n",
        "except Exception as e:\n",
        "    print(f\"❌ Create failed: {e}\")\n"
      ]
    }
  ],
  "metadata": {
    "kernelspec": {
      "display_name": "mcp-test-env",
      "language": "python",
      "name": "python3"
    },
    "language_info": {
      "codemirror_mode": {
        "name": "ipython",
        "version": 3
      },
      "file_extension": ".py",
      "mimetype": "text/x-python",
      "name": "python",
      "nbconvert_exporter": "python",
      "pygments_lexer": "ipython3",
      "version": "3.13.1"
    }
  },
  "nbformat": 4,
  "nbformat_minor": 2
}
